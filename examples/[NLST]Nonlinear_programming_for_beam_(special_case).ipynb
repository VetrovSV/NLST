{
  "nbformat": 4,
  "nbformat_minor": 0,
  "metadata": {
    "kernelspec": {
      "display_name": "Python 3",
      "language": "python",
      "name": "python3"
    },
    "language_info": {
      "codemirror_mode": {
        "name": "ipython",
        "version": 3
      },
      "file_extension": ".py",
      "mimetype": "text/x-python",
      "name": "python",
      "nbconvert_exporter": "python",
      "pygments_lexer": "ipython3",
      "version": "3.8.5"
    },
    "colab": {
      "name": "[NLST]Nonlinear programming for beam (special_case).ipynb",
      "provenance": [],
      "collapsed_sections": [],
      "include_colab_link": true
    }
  },
  "cells": [
    {
      "cell_type": "markdown",
      "metadata": {
        "id": "view-in-github",
        "colab_type": "text"
      },
      "source": [
        "<a href=\"https://colab.research.google.com/github/VetrovSV/NLST/blob/master/examples/%5BNLST%5DNonlinear_programming_for_beam_(special_case).ipynb\" target=\"_parent\"><img src=\"https://colab.research.google.com/assets/colab-badge.svg\" alt=\"Open In Colab\"/></a>"
      ]
    },
    {
      "cell_type": "markdown",
      "metadata": {
        "id": "9Fs1Jn19zAUk"
      },
      "source": [
        "**Вопросы**\n",
        "1. Какие уравнения называют линейными?\n",
        "1. В чём состоит задача линейного программирования?\n",
        "\n"
      ]
    },
    {
      "cell_type": "markdown",
      "metadata": {
        "id": "X9C4hDB-zAUk"
      },
      "source": [
        "# Расчёт балки c распределённой нагрузкой по предельным состояниям\n",
        "\n",
        "(Введение в нелинейную строительную механику, О. Л. Рудных, стр 88, пример 1.)\n",
        "\n",
        "\n",
        "Для заданной схемы требуется определить места образования пластических шарниров, предельное значение нагрузки $q$ выраженное через предельный момент"
      ]
    },
    {
      "cell_type": "markdown",
      "metadata": {
        "id": "LRBZnDBTzAUk"
      },
      "source": [
        "![image.png](data:image/png;base64,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)"
      ]
    },
    {
      "cell_type": "markdown",
      "metadata": {
        "id": "oDYT9Xb2zAUk"
      },
      "source": [
        "### Аналитическое решение"
      ]
    },
    {
      "cell_type": "markdown",
      "metadata": {
        "id": "39nFvC26zAUk"
      },
      "source": [
        "- Это статически неопределимая балка, значит возникает 2 пластических шарнира:\n",
        "    - в точке А, \n",
        "    - где-то в пролёте AB\n",
        "- Нужно найти:\n",
        "    - Предельное значение нагрузки q\n",
        "    - Положение второго пластического шарнира -- расстояние z от точки B до шарнира\n",
        "\n",
        "**Решим задчу аналитически**\n",
        "- Изобразим реакции связей\n",
        "- Далее определим нагрузку через платический момент $M_{пл}$"
      ]
    },
    {
      "cell_type": "markdown",
      "metadata": {
        "id": "J24xLjslzAUk"
      },
      "source": [
        "- Запишем уравнение для внутреннего момента с координатой z (отсчитывается от т. B)\\\n",
        "(1) &nbsp; $ M^{прав} = R_B \\cdot z - q \\cdot \\frac{z}{2} \\cdot z $"
      ]
    },
    {
      "cell_type": "markdown",
      "metadata": {
        "id": "nLAeBH7MzAUk"
      },
      "source": [
        "- Найдём максимальный момент на отрезке AB продифференцировав M по z и прировняв производную к нулю\\\n",
        "$ R_B - q \\cdot z = 0 $\n",
        "- Максимальный момент будет при:\\\n",
        "$ R_B = q \\cdot z_{max}$\\\n",
        "(2) &nbsp; $ z_{max} = \\frac{R_B}{q}$"
      ]
    },
    {
      "cell_type": "markdown",
      "metadata": {
        "id": "dqSB1INezAUk"
      },
      "source": [
        "Определим максимальный момент на учаске AB подставив (2) в (1):\\\n",
        "&nbsp; $ M_{max} = \\frac{R_B^2}{q} - q \\frac{R_B^2}{2 q^2 }   $ \\\n",
        "&nbsp; $ M_{max} = \\frac{R_B^2}{2 q} $\n",
        "\n",
        "Максимальный допустимый момет -- это предельный момент, возникающий в пластическом шарнире\n",
        "\n",
        "$M_{пл} =  M_{max} $\n",
        "\n",
        "Выразим нагрузку через предельный момент: \\\n",
        "**(3) &nbsp; $$ q = \\frac{R_B^2}{2 M_{пр}}$$**\n",
        "\n",
        "Это уравнение описывает платический шарнир на участке AB.\n",
        "\n",
        "<br>\n",
        "\n",
        "Пластический шарнир возникает ещё в точке A. Выразим нагрузку q через $M_{пр}$ и для этой точки, подставив $z = l$  в уравнение (1) \\\n",
        "$ M_{max} = M_{пр} = R_B \\cdot l - q \\cdot \\frac{l}{2} \\cdot l$\n",
        "\n",
        "\n",
        "выразим q: \\\n",
        "**(4) &nbsp; $$ q = \\frac{2 M_{пр} }{l^2} +  \\frac{2 R_B}{l}   $$**"
      ]
    },
    {
      "cell_type": "markdown",
      "metadata": {
        "id": "XQHcnYXXzAUk"
      },
      "source": [
        "Получили два уравнения\n",
        "\n",
        "(3) &nbsp; $ q = \\frac{R_B^2}{2 M_{пр}}$ \\\n",
        "(4) &nbsp; $ q = \\frac{2 M_{пр} }{l^2} +  \\frac{2 R_B}{l}   $\n",
        "\n",
        "в которых присутствует искомые $z$ и $q$, а также неизвестная реакция связей $R_B$.\n",
        "\n",
        "При этом, нужно найти максимальное значение $q$ удоавлетворяющее этим неравенствам,\n",
        "т.е.\n",
        "\n",
        "$ q \\rightarrow max$\n",
        "\n",
        "\n",
        "Это постановка задачи нелинейного программирования -- найти максимум (минимум) функции, при заданных ограничениях равенствах или неравенствах. Причем ограничения и\\или целевая функция нелинейны.\n",
        "\n",
        "\n",
        "Построим графики в координатах $q$ и $R_B$"
      ]
    },
    {
      "cell_type": "code",
      "metadata": {
        "id": "YGt_vMvMzAUk"
      },
      "source": [
        "# для запуска в mybinder.com:\n",
        "# установка модулей\n",
        "# убрать символ # в начале следующих строк и запустить ячейку\n",
        "# !pip install numpy\n",
        "# !pip install scipy\n",
        "# !pip install seaborn"
      ],
      "execution_count": null,
      "outputs": []
    },
    {
      "cell_type": "code",
      "metadata": {
        "id": "vxB819kyzAUl"
      },
      "source": [
        "import numpy as np\n",
        "from scipy.optimize import linprog, minimize\n",
        "from matplotlib.pyplot import *                         # для построения графиков\n",
        "\n",
        "# выводить 4 знака после запятой, выводить маленькие (по модулю) числа как 0\n",
        "np.set_printoptions(precision=2, suppress=True)"
      ],
      "execution_count": null,
      "outputs": []
    },
    {
      "cell_type": "code",
      "metadata": {
        "id": "Wz0iLLrQzAUl",
        "colab": {
          "base_uri": "https://localhost:8080/",
          "height": 606
        },
        "outputId": "17bbd0f3-489d-44ac-c03b-1946f55bc1da"
      },
      "source": [
        "absM = 300  # kH*m\n",
        "l = 4  # m\n",
        "\n",
        "# сделаем из неравенств (3) и (4) равенства и построим графики в координатах Rb - q\n",
        "# для этого запишем q как функцию от Rb: q = f(Rb):\n",
        "q1 = lambda Rb: Rb**2 / 2 / absM        # формула (3)\n",
        "q2 = lambda Rb: 2*absM/l**2 + 2*Rb/l    # формула (4)\n",
        "\n",
        "# для построения графика по точкам создадим набор из значений (100 штук) Rb от 0 до 450\n",
        "Rb = np.linspace(-100, 400, 100)\n",
        "\n",
        "figure(figsize=(10,10))\n",
        "# построим графики: первый параметр - набор абсцисс, второй - набор значений ординат, третий - подпись к графику\n",
        "plot(Rb, q1(Rb), '--', label='по формуле из (3)')\n",
        "plot(Rb, q2(Rb), label='по формуле из (4)')\n",
        "xlabel('Rb')   # подпись к оси абсцисс\n",
        "ylabel('q')    # подпись к оси ординат\n",
        "legend(loc='best')   # добавить легенду\n",
        "grid()    # показать координатную сетку"
      ],
      "execution_count": null,
      "outputs": [
        {
          "output_type": "display_data",
          "data": {
            "image/png": "[encoded data removed]",
            "text/plain": [
              "<Figure size 720x720 with 1 Axes>"
            ]
          },
          "metadata": {
            "needs_background": "light"
          }
        }
      ]
    },
    {
      "cell_type": "markdown",
      "metadata": {
        "id": "4u6QCa-wOUNe"
      },
      "source": [
        "Учтём целевую функцию на графике"
      ]
    },
    {
      "cell_type": "code",
      "metadata": {
        "id": "D1YbUb20zAUm",
        "colab": {
          "base_uri": "https://localhost:8080/",
          "height": 604
        },
        "outputId": "0c75fbf7-1701-461f-c9a3-11c6a79e3b75"
      },
      "source": [
        "# Дополнительно: Тепловая карта целевой функции\n",
        "X = np.linspace(0, 400, 100)  # набор абсцисс\n",
        "Y = np.linspace(-50, 300, 100)  # набор ординат\n",
        "func = np.vectorize(lambda Rb,q: -q)  # целевая функция f(Rb,q) = -q\n",
        "xx,yy = np.meshgrid( X, Y)    # создание набора точек не плоскости для вычисления функции двух переменных\n",
        "zz = func(xx,yy)              # вычисление целевой функции \n",
        "\n",
        "figure( figsize=(12,10))\n",
        "plot(Rb, q1(Rb), '--', color='black', label='по формуле из (3)')\n",
        "plot(Rb, q2(Rb),       color='black', label='по формуле из (4)')\n",
        "contourf(xx, yy, zz, 100)     # построение тепловой карты\n",
        "colorbar()                    # показать масштаб\n",
        "legend(loc='best')            # добавить легенду\n",
        "xlabel('Rb')                  # подпись к оси абсцисс\n",
        "ylabel('q')                   # подпись к оси ординат\n",
        "show()"
      ],
      "execution_count": null,
      "outputs": [
        {
          "output_type": "display_data",
          "data": {
            "image/png": "[encoded data removed]",
            "text/plain": [
              "<Figure size 864x720 with 2 Axes>"
            ]
          },
          "metadata": {
            "tags": [],
            "needs_background": "light"
          }
        }
      ]
    },
    {
      "cell_type": "markdown",
      "metadata": {
        "id": "CtOx2PpnzAUm"
      },
      "source": [
        "Два графика выше определяют область значений (в их пересеченииях) в которой нужно максимизировать целевую функцию.\n",
        "\n",
        "Так как целевая функция требует максимизировать q, то просто выберем в области заданной неравенствами точку с наибольшим значением q.\n",
        "\n",
        "Это точка пересечения двух графиков. Найдём её\n",
        "\n",
        "$ \\frac{R_B^2}{2 M_{пр}} = \\frac{2 M_{пр} }{l^2} +  \\frac{2 R_B}{l}   $\n",
        "\n",
        "Это уравнение имеет два решения:\n",
        "\n",
        "$ R_B \\approx 4.82843 M_{пр}/l $\n",
        "\n",
        "$ R_B \\approx -0.828427 M_{пр}/l $\n",
        "\n",
        "Второй вариант очевидно не подходит для точки пересечения кривых изображённый на графике.\n",
        "\n",
        "Превратив 2 в равенство, подставим полученное значение $ R_B $ и найдём q:\n",
        "\n",
        "$ q \\approx \\frac{11.6 M_{пр}}{l^2} $\n",
        "\n",
        "Кроме нагрузки требуется ещё и определить место образования пластического шарнира. Определим z из уравнения (2):\n",
        "\n",
        "$ z \\approx 0.414 l$\n",
        "\n",
        "#### Ответ\n",
        "\n",
        "$ q \\approx \\frac{11.6 M_{пр}}{l^2} $\n",
        "\n",
        "Пластические шарниры образуются в т A и на расстоянии z от точки B( z отсчитывается влево)\n",
        "\n",
        "$ z \\approx 0.414 l$\n"
      ]
    },
    {
      "cell_type": "code",
      "metadata": {
        "id": "eehqwYW7zAUm",
        "colab": {
          "base_uri": "https://localhost:8080/"
        },
        "outputId": "65c4c9e3-1297-408b-a4f7-3b4c9038198a"
      },
      "source": [
        "l = 4\n",
        "absM = 300\n",
        "\n",
        "Rb = 4.82 * absM / l\n",
        "q = 11.6 * absM / l**2\n",
        "z = 0.414 * l\n",
        "\n",
        "print(\"Rb = \",Rb, \"kH\")\n",
        "print(\"q = \",q, \"kH/m\")\n",
        "print(\"z = \",z, \"m\")"
      ],
      "execution_count": null,
      "outputs": [
        {
          "output_type": "stream",
          "text": [
            "Rb =  361.5 kH\n",
            "q =  217.5 kH/m\n",
            "z =  1.656 m\n"
          ],
          "name": "stdout"
        }
      ]
    },
    {
      "cell_type": "markdown",
      "metadata": {
        "id": "sij_ofTQzAUm"
      },
      "source": [
        "## Решение кинематическим способом\n",
        "1. Изобразим кинематически возможную систему (вариант деформирования с образованием пластических шарниров)\n",
        "1. Обозначим возможные перемещения и изобразим пластические моменты\n",
        "1. Отдельно вычислим работу распределённой силы\n",
        "1. Применим принцип возможных перемещений\n",
        "1. Выразим одно возможное перемещение через другое\n",
        "1. Выразим q через z и Mпр.\n",
        "1. Найдём максимум функции q(z) приравняв её производную (по z) к нулю."
      ]
    },
    {
      "cell_type": "markdown",
      "metadata": {
        "id": "jfC9VPL9zAUm"
      },
      "source": [
        "## Решение методом нелинейного программирования"
      ]
    },
    {
      "cell_type": "code",
      "metadata": {
        "id": "5VUTPZ-OzAUn",
        "colab": {
          "base_uri": "https://localhost:8080/"
        },
        "outputId": "d7a9c495-c7f3-4341-b536-040d00a6698c"
      },
      "source": [
        "from scipy.optimize import minimize  # для нелинейного программирования\n",
        "\n",
        "# параметры задачи\n",
        "absM = 300  # kH*m;  предельный момент\n",
        "l = 4       # m;     длина балки\n",
        "\n",
        "\n",
        "# здесь и далее целевая функция и ограничения будут описаны как функции на зяыке программирования Python\n",
        "# эти функции должны иметь единственный параметр - массив\n",
        "# нумерация элементов массива начинается с 0\n",
        "\n",
        "# после названия функции (например def objective(x) ) рекомендуется записать в тройных войных кавычках\n",
        "# смысл каждого элемента массива X, т.е. сопоставить из с переменными задачи\n",
        "\n",
        "\n",
        "# целевая функция\n",
        "def opt_fun(x):\n",
        "    \"\"\" x[0] - Rb\n",
        "        x[1] - q\n",
        "    \"\"\" \n",
        "    return -x[1]\n",
        "    # знак минус перед x[1] стоит потому, что программа будет минимизировать значение, \n",
        "    # но поставленная задача требует максимизации\n",
        "\n",
        "# эта функция аналогична математической записи: objective(x0, x1) = -x1\n",
        "\n",
        "\n",
        "# ограничения записываются в виде:\n",
        "# выражение > 0\n",
        "# где выражение - математическое выражение\n",
        "# само выражение записывается после return\n",
        "\n",
        "\n",
        "# ограничение 1: (по уравнению 4)\n",
        "def constr1(x):\n",
        "    \"\"\" x[0] - Rb\n",
        "        x[1] - q\n",
        "    \"\"\" \n",
        "    return - x[0]**2 / 2 / absM + x[1]\n",
        "# нумерация массива начинается с 0\n",
        "\n",
        "\n",
        "# ограничение 2: (по уравнению 3)\n",
        "def constr2(x):\n",
        "    \"\"\" x[0] - Rb\n",
        "        x[1] - q\n",
        "    \"\"\" \n",
        "    return  -x[1] + 2*absM/l**2 + 2*x[0]/l\n",
        "\n",
        "\n",
        "# начальные значения\n",
        "# если решение не получается, то стоит поменять начальные значения\n",
        "x0 = [100, 100]\n",
        "\n",
        "# запишем функции в список ограничений\n",
        "cons = [{}, {}]\n",
        "\n",
        "# структура данных в фигурных скобках описывает тип уравнения (ineq - неравенство) и само неравенство\n",
        "cons[0] = {'type':'ineq', 'fun': constr1}  \n",
        "cons[1] = {'type':'ineq', 'fun': constr2} \n",
        "\n",
        "# bounds - ограничения для переменных\n",
        "bounds=( (0,1000), (0,1000) )\n",
        "\n",
        "# поиск решения \n",
        "\n",
        "# ответ будет записан в переменную x\n",
        "minimize(opt_fun, x0, constraints=cons, bounds=bounds, method=\"SLSQP\")\n",
        "# доступные методы решения задачи: COBYLA, SLSQP, ..."
      ],
      "execution_count": null,
      "outputs": [
        {
          "output_type": "execute_result",
          "data": {
            "text/plain": [
              "     fun: -218.56601717798853\n",
              "     jac: array([ 0., -1.])\n",
              " message: 'Optimization terminated successfully.'\n",
              "    nfev: 73\n",
              "     nit: 15\n",
              "    njev: 14\n",
              "  status: 0\n",
              " success: True\n",
              "       x: array([362.13, 218.57])"
            ]
          },
          "metadata": {
            "tags": []
          },
          "execution_count": 6
        }
      ]
    },
    {
      "cell_type": "code",
      "metadata": {
        "id": "qEMTZhKOzAUn",
        "colab": {
          "base_uri": "https://localhost:8080/"
        },
        "outputId": "9a6fc342-2c21-480f-e0dd-0102c0a54393"
      },
      "source": [
        "z = 362.13/218.57      # по формуле (2)\n",
        "print(f\"z={z:.2f} m\")"
      ],
      "execution_count": null,
      "outputs": [
        {
          "output_type": "stream",
          "text": [
            "z=1.66 m\n"
          ],
          "name": "stdout"
        }
      ]
    },
    {
      "cell_type": "markdown",
      "metadata": {
        "id": "kc7X-X1bzAUn"
      },
      "source": [
        "**Ответ**\n",
        "\n",
        "$ R_B \\approx x_0 = 362.13 $ kH\n",
        "\n",
        "$ q \\approx x_1 = 218.57$ kH/m\n",
        "\n",
        "$ z \\approx 1.66$ m"
      ]
    },
    {
      "cell_type": "markdown",
      "metadata": {
        "id": "zmGl6ziQzAUn"
      },
      "source": [
        "### Нелинейное программирование\n",
        "Другой способ задания ограничений"
      ]
    },
    {
      "cell_type": "code",
      "metadata": {
        "id": "DySx6VMxzAUn",
        "colab": {
          "base_uri": "https://localhost:8080/"
        },
        "outputId": "a2b04f95-b561-40a4-9003-477282871c14"
      },
      "source": [
        "from scipy.optimize import minimize  # для нелинейного программирования\n",
        "\n",
        "# параметры задачи\n",
        "absM = 300  # kH*m;  предельный момент\n",
        "l = 4       # m;     длина балки\n",
        "\n",
        "\n",
        "# здесь и далее целевая функция и ограничения будут описаны как функции на зяыке программирования Python\n",
        "# эти функции должны иметь единственный параметр - массив\n",
        "# нумерация элементов массива начинается с 0\n",
        "\n",
        "# после названия функции (например def objective(x) ) рекомендуется записать в тройных войных кавычках\n",
        "# смысл каждого элемента массива X, т.е. сопоставить из с переменными задачи\n",
        "\n",
        "\n",
        "# целевая функция\n",
        "def opt_fun(x):\n",
        "    \"\"\" x[0] - Rb\n",
        "        x[1] - q\n",
        "    \"\"\" \n",
        "    return -x[0]\n",
        "    # знак минус перед x[1] стоит потому, что программа будет минимизировать значение, \n",
        "    # но поставленная задача требует максимизации\n",
        "\n",
        "# эта функция аналогична математической записи: objective(x0, x1) = -x1\n",
        "\n",
        "\n",
        "# ограничения записываются в виде:\n",
        "# выражение > 0\n",
        "# где выражение - математическое выражение\n",
        "# само выражение записывается после return\n",
        "\n",
        "\n",
        "# начальные значения\n",
        "# если решение не получается, то стоит поменять начальные значения\n",
        "x0 = [100, 100]\n",
        "\n",
        "# запишем функции в список ограничений\n",
        "cons = []\n",
        "\n",
        "# структура данных в фигурных скобках описывает тип уравнения (ineq - неравенство) и левая часть неравенства\n",
        "# x0 - Rb\n",
        "# x1 - q\n",
        "cons += [ {'type':'ineq', \n",
        "           'fun': lambda x: - x[0]**2 / 2 / absM + x[1]}  ]\n",
        "\n",
        "cons += [ {'type':'ineq', \n",
        "           'fun': lambda x: -x[1] + 2*absM/l**2 + 2*x[0]/l} ] \n",
        "\n",
        "# поиск решения \n",
        "# bounds - ограничения для переменных\n",
        "# ответ будет записан в переменную x\n",
        "minimize(opt_fun, x0, constraints=cons, \n",
        "         bounds=( (0,1000), (0,1000) ), method=\"SLSQP\")\n",
        "\n",
        "# метод нелинейного программирования SLSQP - Sequential linear-quadratic programming"
      ],
      "execution_count": null,
      "outputs": [
        {
          "output_type": "execute_result",
          "data": {
            "text/plain": [
              "     fun: -362.1320343559724\n",
              "     jac: array([-1.,  0.])\n",
              " message: 'Optimization terminated successfully.'\n",
              "    nfev: 49\n",
              "     nit: 12\n",
              "    njev: 12\n",
              "  status: 0\n",
              " success: True\n",
              "       x: array([362.13, 218.57])"
            ]
          },
          "metadata": {
            "tags": []
          },
          "execution_count": 8
        }
      ]
    },
    {
      "cell_type": "code",
      "metadata": {
        "id": "aNt-Pd_lzAUo",
        "colab": {
          "base_uri": "https://localhost:8080/"
        },
        "outputId": "98071aac-cbb4-4807-fd96-738b4042ffb8"
      },
      "source": [
        "11.6 * 300 / 16"
      ],
      "execution_count": null,
      "outputs": [
        {
          "output_type": "execute_result",
          "data": {
            "text/plain": [
              "217.5"
            ]
          },
          "metadata": {
            "tags": []
          },
          "execution_count": 9
        }
      ]
    }
  ]
}