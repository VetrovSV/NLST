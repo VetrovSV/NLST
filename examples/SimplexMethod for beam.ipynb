{
 "cells": [
  {
   "cell_type": "code",
   "execution_count": 1,
   "metadata": {},
   "outputs": [],
   "source": [
    "import numpy as np\n",
    "from scipy.optimize import linprog"
   ]
  },
  {
   "attachments": {
    "image.png": {
     "image/png": "[encoded data removed]"
    }
   },
   "cell_type": "markdown",
   "metadata": {},
   "source": [
    "beam1.png![image.png](attachment:image.png)"
   ]
  },
  {
   "cell_type": "markdown",
   "metadata": {},
   "source": [
    "Номера переменных:\n",
    "\n",
    "1. $R_A$\n",
    "1. $M_B$\n",
    "1. $R_C$\n",
    "1. $M_C$\n",
    "1. $M_D$\n",
    "1. $R_E$\n",
    "1. $F$\n"
   ]
  },
  {
   "cell_type": "markdown",
   "metadata": {},
   "source": [
    "\n",
    "Уравнения равновесия:\n",
    "\n",
    "$\\Sigma Fy = 0$; $R_A + R_C + R_E - 5 F = 0$ (1)\n",
    "\n",
    "$\\Sigma m_A = 0$; $ 3 F \\cdot 1 - R_C \\cdot 2 + 2 F \\cdot 3 - R_E \\cdot 4 = 0 $ (2)\n",
    "\n",
    "$\\Sigma m_E = 0$; $ R_A \\cdot 4 - 3 F \\cdot 3 + R_C \\cdot 2 - 2 F \\cdot 1= 0 $ (3)\n",
    "\n",
    "\n",
    "Уравнения для внутренних моментов:\n",
    "\n",
    "$M_B = R_A \\cdot 1$\n",
    "\n",
    "$M_C = R_A \\cdot 2 - 3 F \\cdot 1$\n",
    "\n",
    "$M_D = - R_E \\cdot 1$\n",
    "\n",
    "Уравнения статически допустимого состояния:\n",
    "\n",
    "$ |M_B| \\le M_{пр} $\n",
    "\n",
    "$ |M_C| \\le M_{пр} $\n",
    "\n",
    "$ |M_D| \\le M_{пр} $\n",
    "\n",
    "\n",
    "Целевая функция:\n",
    "\n",
    "$F \\rightarrow max$"
   ]
  },
  {
   "cell_type": "code",
   "execution_count": 8,
   "metadata": {},
   "outputs": [],
   "source": [
    "# уравнения равновесия. равенства\n",
    "stat_eq1 = [1,0, 1,  0,0, 1,  -5]\n",
    "stat_eq2 = [0,0,-2,  0,0,-4,   9]\n",
    "stat_eq3 = [4,0, 2,  0,0, 0, -11]\n",
    "\n",
    "\n",
    "# Уравнения для внутренних моментов. равенства\n",
    "m_eq1 = [-1,1,0, 0,0,0, 0]\n",
    "m_eq2 = [-2,0,0, 1,0,0, 3]\n",
    "m_eq3 = [ 0,0,0, 0,1,1, 0]\n",
    "\n",
    "# коэффициенты при неизветсных в целевой функции\n",
    "opt_fun = [0,0,0, 0,0,0, -1]  # -1, ибо функция -> max\n",
    "\n",
    "# ограничение предельного момента\n",
    "absM = 300  # вычисляется Wпр = sigma_Т * W; (см. лекцию 1)\n",
    "\n",
    "# ограничение для сил\n",
    "absF = 10000  # задаётся заведомо недостиживое значение"
   ]
  },
  {
   "cell_type": "code",
   "execution_count": 9,
   "metadata": {},
   "outputs": [
    {
     "name": "stderr",
     "output_type": "stream",
     "text": [
      "/usr/local/lib/python3.6/dist-packages/scipy/optimize/_linprog_ip.py:643: OptimizeWarning: A_eq does not appear to be of full row rank. To improve performance, check the problem formulation for redundant equality constraints.\n",
      "  warn(redundancy_warning, OptimizeWarning)\n"
     ]
    },
    {
     "data": {
      "text/plain": [
       "     con: array([-1.50673695e-05,  2.26011525e-05, -3.76683256e-05, -7.30835336e-06,\n",
       "        7.75894421e-06,  7.75891769e-06])\n",
       "     fun: -299.9999915956887\n",
       " message: 'Optimization terminated successfully.'\n",
       "     nit: 6\n",
       "   slack: array([], dtype=float64)\n",
       "  status: 0\n",
       " success: True\n",
       "       x: array([ 299.9999913 ,  299.99999861, 1049.99999002, -299.99999995,\n",
       "       -149.99999949,  149.99999173,  299.9999916 ])"
      ]
     },
     "execution_count": 9,
     "metadata": {},
     "output_type": "execute_result"
    }
   ],
   "source": [
    "linprog( opt_fun, A_eq = [stat_eq1, \n",
    "                         stat_eq2, \n",
    "                         stat_eq3, \n",
    "                         m_eq1,\n",
    "                         m_eq2,\n",
    "                         m_eq3], \n",
    "        b_eq = [0]*6,  # правые части для равенств \n",
    "        bounds=( (-absF, absF),(-absM, absM),(-absF, absF),\n",
    "                 (-absM, absM),(-absM, absM),(-absF, absF),\n",
    "                 (-absF, absF)),\n",
    "        method = 'interior-point' )"
   ]
  },
  {
   "cell_type": "markdown",
   "metadata": {},
   "source": [
    "Ответ:\n",
    "\n",
    "x: array([ 299.9999913 ,  299.99999861, 1049.99999002, -299.99999995,\n",
    "       -149.99999949,  149.99999173,  299.9999916 ])\n",
    "       \n",
    "1. $R_A$ = 299.9999913\n",
    "1. $M_B$ = 299.99999861\n",
    "1. $R_C$ = 1049.99999002\n",
    "1. $M_C$ = -299.99999995\n",
    "1. $M_D$ = -149.99999949\n",
    "1. $R_E$ = 149.99999173\n",
    "1. $F$   = 299.9999916\n"
   ]
  },
  {
   "cell_type": "markdown",
   "metadata": {},
   "source": [
    "#### Контроль корректности решения:\n",
    "- success: True\n",
    "- В этой схеме возникает 2 пластических шарнира, значит только два момента должны иметь предельное значение (см. выше absM)\n",
    "\n",
    "#### Где возникают пластические шарниры?\n",
    "точки: B и C"
   ]
  }
 ],
 "metadata": {
  "kernelspec": {
   "display_name": "Python 3",
   "language": "python",
   "name": "python3"
  },
  "language_info": {
   "codemirror_mode": {
    "name": "ipython",
    "version": 3
   },
   "file_extension": ".py",
   "mimetype": "text/x-python",
   "name": "python",
   "nbconvert_exporter": "python",
   "pygments_lexer": "ipython3",
   "version": "3.6.8"
  }
 },
 "nbformat": 4,
 "nbformat_minor": 2
}
