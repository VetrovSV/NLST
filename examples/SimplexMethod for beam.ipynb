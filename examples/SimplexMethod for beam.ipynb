{
 "cells": [
  {
   "cell_type": "code",
   "execution_count": 1,
   "metadata": {},
   "outputs": [],
   "source": [
    "import numpy as np\n",
    "from scipy.optimize import linprog"
   ]
  },
  {
   "cell_type": "markdown",
   "metadata": {},
   "source": [
    "Номера переменных:\n",
    "\n",
    "1. $R_A$\n",
    "1. $M_B$\n",
    "1. $R_C$\n",
    "1. $M_C$\n",
    "1. $M_D$\n",
    "1. $R_E$\n",
    "1. $F$\n"
   ]
  },
  {
   "cell_type": "markdown",
   "metadata": {},
   "source": [
    "\n",
    "Уравнения равновесия:\n",
    "\n",
    "$\\Sigma Fy = 0$; $R_A + R_C + R_E - 5 F = 0$ (1)\n",
    "\n",
    "$\\Sigma m_A = 0$; $ 3 F \\cdot 1 - R_C \\cdot 2 + 2 F \\cdot 3 - R_E \\cdot 4 = 0 $ (2)\n",
    "\n",
    "$\\Sigma m_E = 0$; $ R_A \\cdot 4 - 3 F \\cdot 3 + R_C \\cdot 2 - 2 F \\cdot 1= 0 $ (3)\n",
    "\n",
    "\n",
    "Уравнения для внутренних моментов:\n",
    "\n",
    "$M_B = R_A \\cdot 1$\n",
    "\n",
    "$M_C = R_A \\cdot 1 - 2 F \\cdot 1$\n",
    "\n",
    "$M_D = - R_E \\cdot 1$\n",
    "\n",
    "Уравнения статически допустимого состояния:\n",
    "\n",
    "$ |M_B| \\le M_{пр} $\n",
    "\n",
    "$ |M_C| \\le M_{пр} $\n",
    "\n",
    "$ |M_D| \\le M_{пр} $\n",
    "\n",
    "\n",
    "Целевая функция:\n",
    "\n",
    "$F \\rightarrow max$"
   ]
  },
  {
   "cell_type": "code",
   "execution_count": 12,
   "metadata": {},
   "outputs": [],
   "source": [
    "# уравнения равновесия. равенства\n",
    "stat_eq1 = [1,0, 1,  0,0, 1,  -5]\n",
    "stat_eq2 = [0,0,-2,  0,0,-4,   9]\n",
    "stat_eq3 = [4,0, 2,  0,0, 0, -11]\n",
    "\n",
    "\n",
    "# Уравнения для внутренних моментов. равенства\n",
    "m_eq1 = [-1,1,0, 0,0,0, 0]\n",
    "m_eq2 = [-1,0,0, 1,0,0, 2]\n",
    "m_eq3 = [ 0,0,0, 0,1,1, 0]\n",
    "\n",
    "# коэффициенты при неизветсных в целевой функции\n",
    "opt_fun = [0,0,0, 0,0,0, -1]  # -1, ибо функция -> max\n",
    "\n",
    "\n",
    "absM = 300\n",
    "absF = 1000"
   ]
  },
  {
   "cell_type": "code",
   "execution_count": 13,
   "metadata": {},
   "outputs": [
    {
     "name": "stderr",
     "output_type": "stream",
     "text": [
      "/usr/local/lib/python3.6/dist-packages/scipy/optimize/_linprog_ip.py:643: OptimizeWarning: A_eq does not appear to be of full row rank. To improve performance, check the problem formulation for redundant equality constraints.\n",
      "  warn(redundancy_warning, OptimizeWarning)\n"
     ]
    },
    {
     "data": {
      "text/plain": [
       "     con: array([-9.79288598e-06,  1.46893294e-05, -2.44822145e-05, -3.43094530e-06,\n",
       "        6.36194977e-06,  6.36195696e-06])\n",
       "     fun: -290.90907596353827\n",
       " message: 'Optimization terminated successfully.'\n",
       "     nit: 6\n",
       "   slack: array([], dtype=float64)\n",
       "  status: 0\n",
       " success: True\n",
       "       x: array([ 299.99998576,  299.99998919,  999.99995852, -281.81817253,\n",
       "       -154.54545169,  154.54544533,  290.90907596])"
      ]
     },
     "execution_count": 13,
     "metadata": {},
     "output_type": "execute_result"
    }
   ],
   "source": [
    "linprog(opt_fun, A_eq = [stat_eq1, \n",
    "                         stat_eq2, \n",
    "                         stat_eq3, \n",
    "                         m_eq1,\n",
    "                         m_eq2,\n",
    "                         m_eq3], \n",
    "        b_eq = [0]*6,  # правые части для равенств \n",
    "        bounds=( (-absF, absF),(-absM, absM),(-absF, absF),\n",
    "                 (-absM, absM),(-absM, absM),(-absF, absF),\n",
    "                 (-absF, absF)),\n",
    "        method = 'interior-point' )"
   ]
  },
  {
   "cell_type": "code",
   "execution_count": null,
   "metadata": {},
   "outputs": [],
   "source": []
  }
 ],
 "metadata": {
  "kernelspec": {
   "display_name": "Python 3",
   "language": "python",
   "name": "python3"
  },
  "language_info": {
   "codemirror_mode": {
    "name": "ipython",
    "version": 3
   },
   "file_extension": ".py",
   "mimetype": "text/x-python",
   "name": "python",
   "nbconvert_exporter": "python",
   "pygments_lexer": "ipython3",
   "version": "3.6.8"
  }
 },
 "nbformat": 4,
 "nbformat_minor": 2
}
