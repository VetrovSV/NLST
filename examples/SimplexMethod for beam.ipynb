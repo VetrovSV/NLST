{
 "cells": [
  {
   "attachments": {
    "image.png": {
     "image/png": "[encoded data removed]"
    }
   },
   "cell_type": "markdown",
   "metadata": {},
   "source": [
    "beam1.png![image.png](attachment:image.png)"
   ]
  },
  {
   "cell_type": "markdown",
   "metadata": {},
   "source": [
    "Номера переменных:\n",
    "\n",
    "1. $R_A$\n",
    "1. $M_B$\n",
    "1. $R_C$\n",
    "1. $M_C$\n",
    "1. $M_D$\n",
    "1. $R_E$\n",
    "1. $F$\n"
   ]
  },
  {
   "cell_type": "markdown",
   "metadata": {},
   "source": [
    "\n",
    "Уравнения равновесия:\n",
    "\n",
    "$\\Sigma Fy = 0$; $R_A + R_C + R_E - 5 F = 0$ (1)\n",
    "\n",
    "$\\Sigma m_A = 0$; $ 3 F \\cdot 1 - R_C \\cdot 2 + 2 F \\cdot 3 - R_E \\cdot 4 = 0 $ (2)\n",
    "\n",
    "$\\Sigma m_E = 0$; $ R_A \\cdot 4 - 3 F \\cdot 3 + R_C \\cdot 2 - 2 F \\cdot 1= 0 $ (3)\n",
    "\n",
    "\n",
    "&nbsp;\n",
    "\n",
    "\n",
    "Уравнения для внутренних моментов:\n",
    "\n",
    "(правило знаков : слева от сечения: + по ходу часовой стрелки; справа от сечения: + против хода часовой стрелки)\n",
    "\n",
    "$M_B^{лев} = R_A \\cdot 1$\n",
    "\n",
    "$M_C^{лев} = R_A \\cdot 2 - 3 F \\cdot 1$\n",
    "\n",
    "$M_D^{прав} = R_E \\cdot 1$\n",
    "\n",
    "\n",
    "&nbsp;\n",
    "\n",
    "Уравнения статически допустимого состояния:\n",
    "\n",
    "$ |M_B| \\le M_{пр} $\n",
    "\n",
    "$ |M_C| \\le M_{пр} $\n",
    "\n",
    "$ |M_D| \\le M_{пр} $\n",
    "\n",
    "\n",
    "Целевая функция:\n",
    "\n",
    "$F \\rightarrow max$"
   ]
  },
  {
   "cell_type": "code",
   "execution_count": 1,
   "metadata": {},
   "outputs": [],
   "source": [
    "# для запуска в mybinder.com:\n",
    "# установка модулей\n",
    "# убрать символ # в начале следующих строк и запустить ячейку\n",
    "# !pip install numpy\n",
    "# !pip install scipy"
   ]
  },
  {
   "cell_type": "code",
   "execution_count": 1,
   "metadata": {},
   "outputs": [],
   "source": [
    "import numpy as np\n",
    "from scipy.optimize import linprog\n",
    "\n",
    "# выводить 4 знака после запятой, выводить маленькие (по модулю) числа как 0\n",
    "np.set_printoptions(precision=4, suppress=True)"
   ]
  },
  {
   "cell_type": "code",
   "execution_count": 2,
   "metadata": {},
   "outputs": [
    {
     "name": "stderr",
     "output_type": "stream",
     "text": [
      "/usr/local/lib/python3.6/dist-packages/scipy/optimize/_linprog_ip.py:643: OptimizeWarning: A_eq does not appear to be of full row rank. To improve performance, check the problem formulation for redundant equality constraints.\n",
      "  warn(redundancy_warning, OptimizeWarning)\n"
     ]
    },
    {
     "data": {
      "text/plain": [
       "     con: array([-0.,  0., -0., -0.,  0., -0.])\n",
       "     fun: -299.9999915957469\n",
       " message: 'Optimization terminated successfully.'\n",
       "     nit: 6\n",
       "   slack: array([], dtype=float64)\n",
       "  status: 0\n",
       " success: True\n",
       "       x: array([ 300.,  300., 1050., -300.,  150.,  150.,  300.])"
      ]
     },
     "execution_count": 2,
     "metadata": {},
     "output_type": "execute_result"
    }
   ],
   "source": [
    "#               RA MB RC   MC MD RE    F\n",
    "#                1  2  3    4  5  6    7\n",
    "A = np.array( [ # уравнения равновесия. равенства\n",
    "                [1, 0, 1,   0, 0, 1,  -5],  # y\n",
    "                [0, 0,-2,   0, 0,-4,   9],  # A\n",
    "                [4, 0, 2,   0, 0, 0, -11],  # E\n",
    "                # Уравнения для внутренних моментов. равенства\n",
    "                [-1, 1,0,   0, 0, 0,   0],  # B слева\n",
    "                [-2, 0,0,   1, 0, 0,   3],  # C слева\n",
    "                [ 0, 0,0,   0, 1,-1,   0]   # D справа\n",
    "              ] )\n",
    "\n",
    "# коэффициенты при неизвестных в целевой функции\n",
    "opt_fun = [0,0,0, 0,0,0, -1]  # -1, ибо функция -> max, а программа минимизирует функцию\n",
    "\n",
    "# ограничение предельного момента\n",
    "absM = 300  # вычисляется Wпр = sigma_Т * W; (см. лекцию 1)\n",
    "\n",
    "# ограничение для сил\n",
    "absF = 10000  # задаётся заведомо недостижимое значение. если линейное программирование не срабатывает, \n",
    "              # то значение нужно увеличить\\уменьшить\n",
    "\n",
    "linprog( opt_fun, A_eq = A, \n",
    "        b_eq = [0]*6,  # правые части для равенств \n",
    "        bounds=( (-absF, absF), (-absM, absM), (-absF, absF),\n",
    "                 (-absM, absM), (-absM, absM), (-absF, absF),\n",
    "                 (-absF, absF) ),\n",
    "        method = 'interior-point' )"
   ]
  },
  {
   "cell_type": "markdown",
   "metadata": {},
   "source": [
    "Ответ:\n",
    "\n",
    "x: array([ 299.9999913 ,  299.99999861, 1049.99999002, -299.99999995,\n",
    "       -149.99999949,  149.99999173,  299.9999916 ])\n",
    "       \n",
    "1. $R_A$ = 299.9999913\n",
    "1. $M_B$ = 299.99999861\n",
    "1. $R_C$ = 1049.99999002\n",
    "1. $M_C$ = -299.99999995\n",
    "1. $M_D$ = 149.99999949\n",
    "1. $R_E$ = 149.99999173\n",
    "1. $F$   = 299.9999916\n"
   ]
  },
  {
   "cell_type": "markdown",
   "metadata": {},
   "source": [
    "#### Контроль корректности решения:\n",
    "- success: True\n",
    "- В этой схеме возникает 2 пластических шарнира, значит только два момента должны иметь предельное значение (см. выше absM)\n",
    "\n",
    "#### Где возникают пластические шарниры?\n",
    "точки: B и C"
   ]
  },
  {
   "cell_type": "markdown",
   "metadata": {},
   "source": [
    "# Проектировочный расчёт\n",
    "\n",
    "## Простой случай: везде одинаковое сечение\n",
    "\n",
    "- Для заданной силы найти моменты\n",
    "- По пластическим моментам определить площадь поперечного сечения\n",
    "\n",
    "\n",
    "## Оптимизация конструкции: выбор разных сечений в разных частях конструкции\n",
    "- Сила задана.\n",
    "- Для каждой части конструкции можно выбрать разную площадь поперечного сечения\n",
    "- Требуется минимизировать объём V материала рамы или балки\n",
    "$$V = \\Sigma l_i A _i$$\n",
    "    - $l_i$ - длинна i-й части тела\n",
    "    - $A_i$ -  площадь поперечного сечения длинна i-й части тела\n",
    "    \n",
    "- Целевая функция линейного программирования: $$ \\Sigma l_i A_i \\rightarrow min $$\n",
    "\n",
    "- На практике, можно заменить целевую функцию на следующую:\n",
    " $$ \\Sigma l_i М_{пл,i} \\rightarrow min $$\n",
    "     - $М_{пл,i}$ - пластический момент i-й части тела\n",
    " \n",
    " - Такая функция удобнее, потому как включает пластические моменты входящие в уравнения внутренних моментов"
   ]
  },
  {
   "cell_type": "markdown",
   "metadata": {},
   "source": [
    "### Пример\n",
    "\n",
    "- Разделим конструкцию на две части: AC и CE\n",
    "- Обозначим пластические моменты для этих частей соответственно: $M_{пл}^{AC}, M_{пл}^{CE}$\n",
    "- Тогда целевая функция нелинейного программирования:\n",
    "\n",
    "$$ 2 a M_{пл}^{AC} + 2 a M_{пл}^{CE} \\rightarrow min$$"
   ]
  },
  {
   "cell_type": "markdown",
   "metadata": {},
   "source": [
    "- Для примера рассмотрим значение силы F = 1000 H, $a=1$\n",
    "- Уравнения равновесия:\n",
    "\n",
    "    (1)  &emsp; $\\Sigma Fy = 0$; $R_A + R_C + R_E - 5000 = 0$\n",
    "    \n",
    "    (2)  &emsp; $\\Sigma m_A = 0$; $ - R_C \\cdot 2 - R_E \\cdot 4 + 9000 \\cdot 1= 0 $\n",
    "    \n",
    "    (3)  &emsp; $\\Sigma m_E = 0$; $ R_A \\cdot 4 + R_C \\cdot 2 - 11000 \\cdot 1= 0 $\n",
    "\n",
    "\n",
    " - Уравнения для внутренних моментов:\n",
    " \n",
    " (правило знаков : слева от сечения: + по ходу часовой стрелки; справа от сечения: против хода часовой стрелки)\n",
    "\n",
    "     (4)  &emsp; $M_B^{лев} = R_A \\cdot 1$; &emsp; => &emsp; $M_B^{лев} - R_A \\cdot 1 = 0$\n",
    "     \n",
    "     (5)  &emsp; $M_C^{лев} = R_A \\cdot 2 - 3000 \\cdot 1$; &emsp; => &emsp; $M_C^{лев} - R_A \\cdot 2 =  - 3000 \\cdot 1$;\n",
    "     \n",
    "     (6)  &emsp; $M_D^{прав} = R_E \\cdot 1$; &emsp; => &emsp; $M_D^{прав} + R_E \\cdot 1 = 0$;\n",
    "\n",
    "\n",
    "- Ограничения для моментов:\n",
    "\n",
    "    (7)  &emsp; $ |M_B| \\le M_{пл}^{AC} $\n",
    "    \n",
    "    (8)  &emsp; $ |M_C| \\le M_{пл}^{AC} $\n",
    "    \n",
    "    (9)  &emsp; $ |M_C| \\le M_{пл}^{CE} $\n",
    "\n",
    "    (10)  &emsp;$ |M_D| \\le M_{пл}^{CE} $\n",
    "\n",
    "\n",
    "- Целевая функция:\n",
    "  $ M_{пл}^{AC} \\cdot 2  +  M_{пл}^{AC} \\cdot 2 \\rightarrow min $\n",
    "\n",
    "Пронумеруем переменные\n",
    "1. $R_A$\n",
    "1. $M_B$\n",
    "1. $R_C$\n",
    "1. $M_C$\n",
    "1. $M_D$\n",
    "1. $R_E$\n",
    "1. $M_{пл}^{AC}$\n",
    "1. $M_{пл}^{CE}$\n",
    "1. $F$"
   ]
  },
  {
   "cell_type": "code",
   "execution_count": 3,
   "metadata": {},
   "outputs": [
    {
     "name": "stderr",
     "output_type": "stream",
     "text": [
      "/usr/local/lib/python3.6/dist-packages/scipy/optimize/_linprog_ip.py:643: OptimizeWarning: A_eq does not appear to be of full row rank. To improve performance, check the problem formulation for redundant equality constraints.\n",
      "  warn(redundancy_warning, OptimizeWarning)\n"
     ]
    },
    {
     "data": {
      "text/plain": [
       "     con: array([-0., -0., -0.,  0.,  0., -0.])\n",
       "     fun: 1199.400000074415\n",
       " message: 'Optimization terminated successfully.'\n",
       "     nit: 14\n",
       "   slack: array([  0.  ,   0.3 ,   0.  , 149.65])\n",
       "  status: 0\n",
       " success: True\n",
       "       x: array([ 300.  ,  300.  , 1049.45, -299.7 ,  150.05,  150.05,  300.  ,\n",
       "        299.7 ,  299.9 ])"
      ]
     },
     "execution_count": 3,
     "metadata": {},
     "output_type": "execute_result"
    }
   ],
   "source": [
    "F = 300   # вычисленное ранее предельное значение силы F\n",
    "\n",
    "# ограничение предельного момента\n",
    "absM = 300  # вычисляется Wпр = sigma_Т * W; (см. лекцию 1)\n",
    "\n",
    "# ограничение для сил\n",
    "absF = 100000  # задаётся заведомо недостижимое значение. если линейное программирование не срабатывает, \n",
    "              # то значение нужно увеличить\\уменьшить\n",
    "\n",
    "\n",
    "# уравнения равновесия. равенства (1)-(6)   \n",
    "#       RA MB RC   MC MD RE  Mac Mce F\n",
    "A  = [ [ 1, 0, 1,  0, 0, 1,  0,  0,   -5],   # y\n",
    "       [ 0, 0,-2,  0, 0,-4,  0,  0,    9],   # A\n",
    "       [ 4, 0, 2,  0, 0, 0,  0,  0,  -11],   # E\n",
    "# Уравнения для внутренних моментов. равенства\n",
    "       [-1,1, 0,   0, 0, 0,  0,  0,    0],  # Mb left\n",
    "       [-2,0, 0,   1, 0, 0,  0,  0,    3],  # Mc left\n",
    "       [ 0,0, 0,   0, 1,-1,  0,  0,    0]  # Md right\n",
    "    ] \n",
    "\n",
    "B = [0] * len(A)\n",
    "\n",
    "\n",
    "# неравенства (7)-(10)\n",
    "#        RA MB RC    MC MD  RE  Mac Mce F\n",
    "Aub = [\n",
    "       [ 0, 1, 0,    0, 0,  0, -1,  0,  0],  # Mb\n",
    "       [ 0, 0, 0,   -1, 0,  0, -1,  0,  0],  # Mc в предыдущем решении получилось отрицательным, поэтому\n",
    "       [ 0, 0, 0,   -1, 0,  0,  0, -1,  0],  # сделаем его положительным в этих уравнениях поставив коэф. -1      \n",
    "       [ 0, 0, 0,    0, 1,  0,  0, -1,  0],  # Md\n",
    "         ]\n",
    "# \n",
    "Bub = [0] * len(Aub)   # правые части неравенств\n",
    "\n",
    "# коэффициенты при неизвестных в целевой функции\n",
    "#          RA MB RC  MC MD RE  Mac Mce  F\n",
    "#          1  2  3   4  5  6    7   8   9\n",
    "opt_fun = [0, 0, 0,  0, 0, 0,   2,  2,  0] \n",
    "\n",
    "\n",
    "\n",
    "linprog( opt_fun, A_eq = A, \n",
    "                  b_eq = B,  # правые части для равенств \n",
    "                  A_ub = Aub,\n",
    "                  b_ub = Bub,\n",
    "        \n",
    "        bounds=( (-absF, absF),(-absM, absM),(-absF, absF),\n",
    "                 (-absM, absM),(-absM, absM),(-absF, absF), \n",
    "                 (0, absM), (0, absM),   # расчётный момент балки должен быть положительным\n",
    "                 (F - 1/10, F + 1/1)    # Зададим границы для F, используя ранее вычисленное значение\n",
    "               ),\n",
    "        method = 'interior-point')"
   ]
  },
  {
   "cell_type": "code",
   "execution_count": 4,
   "metadata": {},
   "outputs": [],
   "source": [
    "#  RA MB RC  MC MD RE  Mac Mce  F"
   ]
  },
  {
   "cell_type": "markdown",
   "metadata": {},
   "source": [
    "#### Ответ:\n",
    "1. $R_A$ = 300 kH\n",
    "1. $M_B$ = 300 kH*m\n",
    "1. $R_C$ = 1049.45 kH\n",
    "\n",
    "1. $M_C$ = -299.7 kH*m\n",
    "1. $M_D$ = 150.05 kH*m\n",
    "1. $R_E$ = 150.05 kH\n",
    "\n",
    "1. **$M_{AC}$ = 300** kH*m\n",
    "1. **$M_{CE}$ = 299.7** kH*m\n",
    "\n",
    "1. $F$   = 299.9 kH"
   ]
  },
  {
   "cell_type": "markdown",
   "metadata": {},
   "source": [
    "#### Контроль корректности решения:\n",
    "1. message: 'Optimization terminated successfully.'\n",
    "1. success: True\n",
    "\n",
    "1. Моменты для частей конструкции ($M_{AC}$ и $M_{CE}$) положительны\n",
    "1. Пластические шарниры возникают в тех же сечениях\n",
    "1. Выполняются неравенства (7) - (10)"
   ]
  },
  {
   "cell_type": "markdown",
   "metadata": {},
   "source": [
    "#### Сравнение с предыдущим результатом\n",
    "\n",
    "Для оценки оптимизации сравним характеристику объёма балок $V = \\Sigma l_i М_{пл,i}$.\n",
    "\n",
    "В предыдущем расчёте балка имела сопротивление изгибу 300 kH*m, длина балки - 4 м.\n",
    "\n",
    "Тогда характеристика объёма $V_1 = 300 \\cdot 4 = 1200 $\n",
    "\n",
    "\n",
    "В проектировочном расчёте для первой части балки был получены значения для сопротивления изгибу:$M_{AC}$ = 300 kH*m, (длина участка балки 2 м)\n",
    "$M_{CE} \\approx$ 300 kH*m (длина участка балки 2 м)\n",
    "\n",
    "Характеристика объёма $V_2 = 300 \\cdot 2 + 300 \\cdot 2 = 1200 $\n",
    "\n"
   ]
  },
  {
   "cell_type": "markdown",
   "metadata": {},
   "source": [
    "#### Вывод:\n",
    "\n",
    "$V_1 = V_2 = 1200 $\n",
    "Объёмы балки после оптимизации не изменились.\n",
    "\n",
    "Моменты всех частей конструкции нужно оставить одинаковыми. \n",
    "\n",
    "**Оптимизация рамы не требуется.**\n",
    "\n",
    "*Если бы один из моментов оказался меньше остальных, то соответствующую ему часть конструкции можно было бы оптимизировать уменьшив сечение*"
   ]
  },
  {
   "cell_type": "markdown",
   "metadata": {},
   "source": [
    "#### Дополнительно:\n",
    "Пластический шарнир в точке С накладывает ограничение на сопротивление изгибу $M_{CE}$, но в остальной части балки правее точки С нет больших моментов. Предположим, что пластический шарнир находится только слева от т. С (или правая часть балки с сопротивлением изгибу $M_{CE}$ заканчивается не в точке С, а правее). Уберём уравнение 9 и закомментируем строчку в программе, задающую коэффициенты этого уравнения. Вычислим переменные заново.\n",
    "\n",
    "Сопротивление изгибу $M_{CE}$ уменьшилось. Что ещё раз подчёркивает корректность полученного решения."
   ]
  }
 ],
 "metadata": {
  "kernelspec": {
   "display_name": "Python 3",
   "language": "python",
   "name": "python3"
  },
  "language_info": {
   "codemirror_mode": {
    "name": "ipython",
    "version": 3
   },
   "file_extension": ".py",
   "mimetype": "text/x-python",
   "name": "python",
   "nbconvert_exporter": "python",
   "pygments_lexer": "ipython3",
   "version": "3.6.8"
  }
 },
 "nbformat": 4,
 "nbformat_minor": 2
}
