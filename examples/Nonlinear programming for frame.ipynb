{
 "cells": [
  {
   "cell_type": "markdown",
   "metadata": {},
   "source": [
    "# Расчёт рамы с распределённой нагрузкой по предельным состояниям методом нелинейного программирования"
   ]
  },
  {
   "attachments": {
    "image.png": {
     "image/png": "[encoded data removed]"
    }
   },
   "cell_type": "markdown",
   "metadata": {},
   "source": [
    "frame_q.svg![image.png](attachment:image.png)"
   ]
  },
  {
   "cell_type": "markdown",
   "metadata": {},
   "source": [
    "- Составим уравнения равновесия\n",
    "\n",
    "(1) &nbsp; $\\Sigma F_y = 0$; &nbsp; $ R_A + R_B - kF - q \\cdot 3 = 0 $\n",
    "\n",
    "(2) &nbsp; $\\Sigma M_A = 0$; &nbsp; $ -R_B \\cdot 5 + F \\cdot 6 + kF \\cdot 3 + q \\cdot 3 \\cdot 1.5 + M_B = 0 $\n",
    "\n",
    "(3) &nbsp; $\\Sigma M_B = 0$; &nbsp; $ R_A \\cdot 5 + F \\cdot 6 - kF \\cdot 2 - q \\cdot 3 \\cdot 3.5 + M_B = 0 $"
   ]
  },
  {
   "cell_type": "markdown",
   "metadata": {},
   "source": [
    "- неравенства для внутренних моментах в опасных сечениях\n",
    "\n",
    "(правило знаков: слева + если по ходу часовой стрелки, справа + если против хода часовой стрелки)\n",
    "\n",
    "(4) &nbsp; $ M_K^{лев} = - H_A \\cdot 6$\n",
    "\n",
    "(5) &nbsp; $ M_X^{лев} = - H_A \\cdot 6 + R_A \\cdot z - q \\cdot z \\cdot \\frac{z}{2} $\n",
    "\n",
    "*(z отсчитывается от точки K вправо)*\n",
    "\n",
    "(6) &nbsp; $ M_W^{прав} = - R_B \\cdot 2 - H_B \\cdot 6 $\n",
    "\n",
    "(7) &nbsp; $ M_C^{прав} = - H_A \\cdot 6$"
   ]
  },
  {
   "cell_type": "markdown",
   "metadata": {},
   "source": [
    "- ограничения для внутренних моментов\n",
    "- Свяжем нагрузки\n",
    "\n",
    "$ F = q \\cdot 3 $"
   ]
  },
  {
   "cell_type": "markdown",
   "metadata": {},
   "source": [
    "- Пронумеруем переменные:\n",
    "\n",
    "\n",
    "0) $ R_A $\n",
    "\n",
    "1) $ H_A $\n",
    "\n",
    "2) $ R_B $\n",
    "\n",
    "3) $ H_B $\n",
    "\n",
    "4) $ M_K $\n",
    "\n",
    "5) $ M_X $\n",
    "\n",
    "6) $ M_W $\n",
    "\n",
    "7) $ M_C $\n",
    "\n",
    "8) $ M_B $\n",
    "\n",
    "9) $ q $\n",
    "\n",
    "10) $ z $\n",
    "\n",
    "\n",
    "\n",
    "- Другие параметры\n",
    "k =  2"
   ]
  },
  {
   "cell_type": "code",
   "execution_count": 1,
   "metadata": {},
   "outputs": [],
   "source": [
    "# для запуска в mybinder.com:\n",
    "# установка модулей\n",
    "# убрать символ # в начале следующих строк и запустить ячейку\n",
    "# !pip install numpy\n",
    "# !pip install scipy\n",
    "# !pip install seaborn"
   ]
  },
  {
   "cell_type": "code",
   "execution_count": 2,
   "metadata": {},
   "outputs": [],
   "source": [
    "import numpy as np\n",
    "from scipy.optimize import linprog, minimize\n",
    "from matplotlib.pyplot import *  # для построения графиков\n",
    "\n",
    "# выводить 4 знака после запятой, выводить маленькие (по модулю) числа как 0\n",
    "# linewidth - максимальная ширина строки\n",
    "np.set_printoptions(precision=2, suppress=True, linewidth=200)"
   ]
  },
  {
   "cell_type": "code",
   "execution_count": 3,
   "metadata": {},
   "outputs": [
    {
     "data": {
      "text/plain": [
       "     fun: -499.99999999797967\n",
       "     jac: array([ 0.,  0.,  0.,  0.,  0.,  0.,  0.,  0.,  0., -1.,  0.])\n",
       " message: 'Optimization terminated successfully.'\n",
       "    nfev: 156\n",
       "     nit: 12\n",
       "    njev: 12\n",
       "  status: 0\n",
       " success: True\n",
       "       x: array([ 800.,   50.,  200.,  -50.,   -0., -300.,  300., -300.,    0.,  500.,    2.])"
      ]
     },
     "execution_count": 3,
     "metadata": {},
     "output_type": "execute_result"
    }
   ],
   "source": [
    "# Сила q действует на участке от 0 до a\n",
    "# силы F нет\n",
    "# z используется как переменная\n",
    "\n",
    "# параметры задачи\n",
    "absM = 300    # kH*m;  предельный момент\n",
    "absF = 100000  # kH\n",
    "a = 2\n",
    "l= 5\n",
    "\n",
    "# 0  1  2  3   4    5  6  7  8     9  10\n",
    "# Ra Ha Rb Hb  Mb   Mk Mx Mc Mb'   q  z\n",
    "# Mb' - внутр. момент\n",
    "\n",
    "# целевая функция\n",
    "def opt_fun(x):\n",
    "    return -x[9]\n",
    "\n",
    "# ограничения записываются для вида\n",
    "# выражение = 0\n",
    "# где выражение - математическое выражение\n",
    "# само выражение записывается после lambda x:\n",
    "\n",
    "cons = []\n",
    "cons += [ {'type':'eq', 'fun':lambda x: -x[1]*6 + x[0]*5 - x[9]*a*((l-a) + a/2) - x[3]*6 + x[4] } ]  # C\n",
    "cons += [ {'type':'eq', 'fun':lambda x: -x[2]*5 + x[4]   + x[9]*a*a/2 } ]                  # A\n",
    "cons += [ {'type':'eq', 'fun':lambda x:  x[0]*5 + x[4]   - x[9]*((l-a) + a/2)*a } ]                  # B\n",
    "\n",
    "cons += [ {'type':'eq', 'fun':lambda x: -x[5] - x[1]*6 }]                                    # Mk l\n",
    "cons += [ {'type':'eq', 'fun':lambda x: -x[6] + x[0]*x[10] - x[1]*6 - x[9]*x[10]*x[10]/2 }]  # Mx l\n",
    "cons += [ {'type':'eq', 'fun':lambda x: -x[7] + x[3]*6 - x[4] } ]                            # Mc r\n",
    "cons += [ {'type':'eq', 'fun':lambda x: -x[8] - x[4]} ]                                      # Mc r\n",
    "\n",
    "# ограничения\n",
    "bounds= [ [-absF,absF],[-absF,absF],[-absF,absF],[-absM,absM],               # Ra, Ha, Rb, Hb\n",
    "          [-absM,absM],[-absM,absM],[-absM,absM],[-absM,absM],[-absM,absM],  # Mb, Mk, Mx, Mc, Mb'\n",
    "          [-absF, absF], [0,a] ]                                             # q, z\n",
    "\n",
    "# начальные значения\n",
    "# если решение не получается, то стоит поменять начальные значения\n",
    "# если решение получается, то всё равно нужно поменять начальную точку и убедится, \n",
    "# что решение не поменялось\n",
    "x0 = [100] * 4 + [250] *5 + [200] + [1]\n",
    "\n",
    "\n",
    "# [100] * 4 - повторить число 100 четыре раза\n",
    "\n",
    "# поиск решения \n",
    "minimize(opt_fun, x0=x0, constraints=cons, bounds=bounds, method='SLSQP')"
   ]
  },
  {
   "cell_type": "markdown",
   "metadata": {},
   "source": [
    "**Контроль корректности решения**\n",
    "\n",
    "- `message: 'Optimization terminated successfully.'`\n",
    "\n",
    "- `success: True`\n",
    "\n",
    "- Пластические шарниры образовались\n",
    "\n",
    "- Силы не вышли за предел записанный в absF\n",
    "\n",
    "- Полученная схема образования пластических шарниров возможна: шарниры в т. С, X, K (балочный механизм разрушения)\n",
    "\n"
   ]
  },
  {
   "cell_type": "markdown",
   "metadata": {},
   "source": [
    "**Ответ**\n",
    "\n",
    "..."
   ]
  },
  {
   "cell_type": "code",
   "execution_count": 4,
   "metadata": {},
   "outputs": [],
   "source": [
    "# 1-Ra 2-Ha 3-Rb 4-Hb   \n",
    "# 5-Mk 6-Mx 7-Mw 8-Mc 9-Mb\n",
    "# 10-q 11-z"
   ]
  },
  {
   "cell_type": "code",
   "execution_count": 5,
   "metadata": {},
   "outputs": [
    {
     "data": {
      "text/plain": [
       "     fun: -468.7500000017674\n",
       "     jac: array([ 0.,  0.,  0.,  0.,  0.,  0.,  0.,  0.,  0., -1.,  0.])\n",
       " message: 'Optimization terminated successfully.'\n",
       "    nfev: 260\n",
       "     nit: 20\n",
       "    njev: 20\n",
       "  status: 0\n",
       " success: True\n",
       "       x: array([ 750.  ,   50.  ,  187.5 ,  -50.  ,   -0.  , -300.  ,  300.  , -300.  ,    0.  ,  468.75,    1.6 ])"
      ]
     },
     "execution_count": 5,
     "metadata": {},
     "output_type": "execute_result"
    }
   ],
   "source": [
    "# Сила q действует на участке от 0 до a\n",
    "# силы F нет\n",
    "# z вычисляется\n",
    "\n",
    "# параметры задачи\n",
    "absM = 300    # kH*m;  предельный момент\n",
    "absF = 100000  # kH\n",
    "a = 2\n",
    "l= 5\n",
    "\n",
    "# 0  1  2  3   4    5  6  7  8     9  10\n",
    "# Ra Ha Rb Hb  Mb   Mk Mx Mc Mb'   q  z\n",
    "# Mb' - внутр. момент\n",
    "\n",
    "# целевая функция\n",
    "def opt_fun(x):\n",
    "    return -x[9]\n",
    "\n",
    "# ограничения записываются для вида\n",
    "# выражение = 0\n",
    "# где выражение - математическое выражение\n",
    "# само выражение записывается после lambda x:\n",
    "\n",
    "cons = []\n",
    "cons += [ {'type':'eq', 'fun':lambda x: -x[1]*6 + x[0]*5 - x[9]*a*((l-a) + a/2) - x[3]*6 + x[4] } ]  # C\n",
    "cons += [ {'type':'eq', 'fun':lambda x: -x[2]*5 + x[4]   + x[9]*a*a/2 } ]                  # A\n",
    "cons += [ {'type':'eq', 'fun':lambda x:  x[0]*5 + x[4]   - x[9]*((l-a) + a/2)*a } ]                  # B\n",
    "\n",
    "cons += [ {'type':'eq', 'fun':lambda x: -x[5] - x[1]*6 }]                                    # Mk l\n",
    "cons += [ {'type':'eq', 'fun':lambda x: -x[6] + x[0]*x[10] - x[1]*6 - x[9]*x[10]*x[10]/2 }]  # Mx l\n",
    "cons += [ {'type':'eq', 'fun':lambda x: -x[7] + x[3]*6 - x[4] } ]                            # Mc r\n",
    "cons += [ {'type':'eq', 'fun':lambda x: -x[8] - x[4]} ]                                      # Mc r\n",
    "cons += [ {'type':'eq', 'fun':lambda x: -x[10] + x[0]/x[9] } ]\n",
    "\n",
    "# ограничения\n",
    "bounds= [ [-absF,absF],[-absF,absF],[-absF,absF],[-absM,absM],               # Ra, Ha, Rb, Hb\n",
    "          [-absM,absM],[-absM,absM],[-absM,absM],[-absM,absM],[-absM,absM],  # Mb, Mk, Mx, Mc, Mb'\n",
    "          [-absF, absF], [0,a] ]                                             # q, z\n",
    "\n",
    "# начальные значения\n",
    "# если решение не получается, то стоит поменять начальные значения\n",
    "# если решение получается, то всё равно нужно поменять начальную точку и убедится, \n",
    "# что решение не поменялось\n",
    "x0 = [100] * 4 + [250] *5 + [200] + [a/2]\n",
    "\n",
    "# поиск решения \n",
    "minimize(opt_fun, x0=x0, constraints=cons, bounds=bounds, method='SLSQP')"
   ]
  },
  {
   "cell_type": "code",
   "execution_count": 6,
   "metadata": {},
   "outputs": [],
   "source": [
    "# 0  1  2  3   4    5  6  7  8     9  10\n",
    "# Ra Ha Rb Hb  Mb   Mk Mx Mc Mb'   q  z"
   ]
  },
  {
   "cell_type": "code",
   "execution_count": 7,
   "metadata": {},
   "outputs": [
    {
     "data": {
      "text/plain": [
       "     fun: -468.7499999881654\n",
       "     jac: array([ 0.,  0.,  0.,  0.,  0.,  0.,  0., -1.,  0.])\n",
       " message: 'Optimization terminated successfully.'\n",
       "    nfev: 154\n",
       "     nit: 14\n",
       "    njev: 14\n",
       "  status: 0\n",
       " success: True\n",
       "       x: array([ 750.  ,   50.  ,  187.5 ,  -50.  , -300.  ,  300.  , -300.  ,  468.75,    1.6 ])"
      ]
     },
     "execution_count": 7,
     "metadata": {},
     "output_type": "execute_result"
    }
   ],
   "source": [
    "# Сила q действует на участке от 0 до a\n",
    "# силы F нет\n",
    "# z вычисляется\n",
    "# в т B шарнир.\n",
    "\n",
    "# параметры задачи\n",
    "absM = 300    # kH*m;  предельный момент\n",
    "absF = 100000  # kH\n",
    "a = 2\n",
    "l = 5\n",
    "h = 6\n",
    "\n",
    "# 0  1  2  3     4  5  6   7  8\n",
    "# Ra Ha Rb Hb    Mk Mx Mc  q  z\n",
    "# Mb' - внутр. момент\n",
    "\n",
    "# целевая функция\n",
    "def opt_fun(x):\n",
    "    return -x[7]\n",
    "\n",
    "# ограничения записываются для вида\n",
    "# выражение = 0\n",
    "# где выражение - математическое выражение\n",
    "# само выражение записывается после lambda x:\n",
    "\n",
    "cons = []\n",
    "cons += [ {'type':'eq', 'fun':lambda x: -x[2]*l + x[7]*a*a/2 } ]                  # A\n",
    "cons += [ {'type':'eq', 'fun':lambda x:  x[0]*l - x[7]*((l-a) + a/2)*a } ]                  # B\n",
    "cons += [ {'type':'eq', 'fun':lambda x: -x[1]*h + x[7]*a*a/2 - x[3]*h - x[2]*l } ]\n",
    "\n",
    "cons += [ {'type':'eq', 'fun':lambda x: -x[4] - x[1]*h }]                                    # Mk l\n",
    "cons += [ {'type':'eq', 'fun':lambda x: -x[5] + x[0]*x[8] - x[1]*h - x[7]*x[8]*x[8]/2 }]     # Mx l\n",
    "cons += [ {'type':'eq', 'fun':lambda x: -x[6] + x[3]*h} ]                            # Mc r\n",
    "cons += [ {'type':'eq', 'fun':lambda x: -x[8] + x[0]/x[7] } ]                               # z\n",
    "\n",
    "# ограничения\n",
    "bounds= [ [-absF,absF],[-absF,absF],[-absF,absF],[-absM,absM],               # Ra, Ha, Rb, Hb\n",
    "          [-absM,absM],[-absM,absM],[-absM,absM],                            # Mk, Mx, Mc,\n",
    "          [-absF, absF], [0,a] ]                                             # q, z\n",
    "\n",
    "# начальные значения\n",
    "# если решение не получается, то стоит поменять начальные значения\n",
    "# если решение получается, то всё равно нужно поменять начальную точку и убедится, \n",
    "# что решение не поменялось\n",
    "x0 = [100] * 4 + [250] *3 + [200] + [a/2]\n",
    "\n",
    "# поиск решения \n",
    "minimize(opt_fun, x0=x0, constraints=cons, bounds=bounds, method='SLSQP')"
   ]
  },
  {
   "cell_type": "code",
   "execution_count": null,
   "metadata": {},
   "outputs": [],
   "source": []
  }
 ],
 "metadata": {
  "kernelspec": {
   "display_name": "Python 3",
   "language": "python",
   "name": "python3"
  },
  "language_info": {
   "codemirror_mode": {
    "name": "ipython",
    "version": 3
   },
   "file_extension": ".py",
   "mimetype": "text/x-python",
   "name": "python",
   "nbconvert_exporter": "python",
   "pygments_lexer": "ipython3",
   "version": "3.6.8"
  }
 },
 "nbformat": 4,
 "nbformat_minor": 2
}
