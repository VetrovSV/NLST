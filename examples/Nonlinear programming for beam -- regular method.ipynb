{
  "nbformat": 4,
  "nbformat_minor": 0,
  "metadata": {
    "kernelspec": {
      "display_name": "Python 3",
      "language": "python",
      "name": "python3"
    },
    "language_info": {
      "codemirror_mode": {
        "name": "ipython",
        "version": 3
      },
      "file_extension": ".py",
      "mimetype": "text/x-python",
      "name": "python",
      "nbconvert_exporter": "python",
      "pygments_lexer": "ipython3",
      "version": "3.8.5"
    },
    "colab": {
      "name": "Nonlinear programming for beam -- regular method.ipynb",
      "provenance": []
    }
  },
  "cells": [
    {
      "cell_type": "markdown",
      "metadata": {
        "id": "cBlPovEhv7Ve"
      },
      "source": [
        "# Нелинейное программирование для определения предельной нагрузки"
      ]
    },
    {
      "cell_type": "markdown",
      "metadata": {
        "id": "abalxfeov7Vf"
      },
      "source": [
        "![image.png](data:image/png;base64,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)"
      ]
    },
    {
      "cell_type": "markdown",
      "metadata": {
        "id": "jNz-aXPnv7Vf"
      },
      "source": [
        "$ AB = l = 4м $\n",
        "\n",
        "$ z $ -- расстояние от т. B до пластического шарнира, возникающего под нагрузкой q"
      ]
    },
    {
      "cell_type": "markdown",
      "metadata": {
        "id": "Ri0Cx0rVv7Vg"
      },
      "source": [
        "1. Уравнения равновесия \\\n",
        "$\\sum F_y = R_A - ql + R_B = 0 $ \\\n",
        "$\\sum m_A = M_A - q \\frac{l^2}{2} + R_B l = 0$ \\\n",
        "$\\sum m_B = M_A +  q \\frac{l^2}{2} - R_A l = 0$\n",
        "\n",
        "1. Уравнения для внутренних моментов (используется правило знаков)\\\n",
        "$M_A^{прав} = - q \\frac{l^2}{2} + R_B l $ \\\n",
        "$M_q^{прав} = - q \\frac{z^2}{2} + R_B z $\n",
        "\n",
        "1. Дополнительно, выразим z через силы:\\\n",
        "$ z = \\frac{R_B}{q}$\n",
        "\n",
        "\n",
        "(это уравнение 2 если продифференцировать уравнение для $M_q$ по z, приравнять полученное к нулю и выразить z.)\n",
        "1. Будем искать максимальное значение: \\\n",
        "$q \\rightarrow max$\n",
        "\n",
        "\n",
        "Пронумеруем переменные (сначала силы реакций опор, потом внутр. моменты, искомая нагрузка, расстояние до второго шарнира):\\\n",
        "0. $R_A$\n",
        "1. $R_B$\n",
        "1. $M_A$\n",
        "1. $M_q$\n",
        "1. $q$"
      ]
    },
    {
      "cell_type": "markdown",
      "metadata": {
        "id": "uVc-3IAVv7Vg"
      },
      "source": [
        "Запрограммируем уравнения и применим метод нелинейного программирования с учётом ограничивающих уравнений"
      ]
    },
    {
      "cell_type": "code",
      "metadata": {
        "id": "MhyccmJPv7Vg"
      },
      "source": [
        "import numpy as np\n",
        "from scipy.optimize import linprog, minimize, LinearConstraint, NonlinearConstraint, Bounds\n",
        "from matplotlib.pyplot import *  # для построения графиков\n",
        "# выводить 4 знака после запятой, выводить маленькие (по модулю) числа как 0\n",
        "np.set_printoptions(precision=2, suppress=True, linewidth=200)"
      ],
      "execution_count": 1,
      "outputs": []
    },
    {
      "cell_type": "code",
      "metadata": {
        "colab": {
          "base_uri": "https://localhost:8080/"
        },
        "id": "0r5em4d9v7Vh",
        "outputId": "a457d132-3b35-4708-9e94-544eb51a1180"
      },
      "source": [
        "\n",
        "absM = 300    # kH*m\n",
        "absF = 10000  # kH\n",
        "l = 3\n",
        "\n",
        "# 0  1    2  3    4 \n",
        "# Ra Rb   Ma Mq   q \n",
        "\n",
        "# ограничения\n",
        "cons = []\n",
        "cons += [{'type':'eq', 'fun': lambda x: x[0] - x[4]*l  + x[1]} ]           # Y\n",
        "# сумму моментов относ т. А не приводим. т.к. уравнение для внутр. момента Ma почти такое же\n",
        "# экспеременально определено: уравнение расновесия относ. т. B не позволяет найти корректный ответ.\n",
        "# поэтому его тоже не приводим\n",
        "# cons += [{'type':'eq', 'fun': lambda x: x[2] + x[4]*l**2 / 2  - x[0]*l} ]           # B\n",
        "\n",
        "cons += [{'type':'eq', 'fun': lambda x: -x[2] - x[4]*   l**2/2 + x[1]*l } ]                     # Ma right\n",
        "\n",
        "cons += [{'type':'eq', 'fun': lambda x: -x[3] - x[4]*( x[1]/x[4] ) **2/2 + x[1]* x[1]/x[4] } ]  # Mq right\n",
        "# Лишние, особенно зависимые, уравнения могут мешать\n",
        "\n",
        "\n",
        "\n",
        "# целевая функция\n",
        "opt_fun = lambda x: -x[4]\n",
        "\n",
        "# здесь важно задать начальную точку\n",
        "#     Ra   Rb   Ma     Mq   q    z\n",
        "x0 = [150, 150, -300,  300, 150 ]\n",
        "          \n",
        "# простые ограничения\n",
        "bounds = ((-absF, absF), # Ra \n",
        "          (-absF, absF), # Rb\n",
        "          (-absM, absM), # Ma\n",
        "          (-absM, absM), # Mq\n",
        "          (0.1, absF),  # q\n",
        ")\n",
        "\n",
        "# bounds = Bounds([-absF, -absF, -absM, -absM, 0.1], [absF, absF, absM, absM, absF])\n",
        "          \n",
        "minimize(opt_fun, x0, constraints=cons, \n",
        "         bounds=bounds, method=\"SLSQP\")"
      ],
      "execution_count": 2,
      "outputs": [
        {
          "output_type": "execute_result",
          "data": {
            "text/plain": [
              "     fun: -388.5618083163145\n",
              "     jac: array([ 0.,  0.,  0.,  0., -1.])\n",
              " message: 'Optimization terminated successfully.'\n",
              "    nfev: 99\n",
              "     nit: 14\n",
              "    njev: 14\n",
              "  status: 0\n",
              " success: True\n",
              "       x: array([ 682.84,  482.84, -300.  ,  300.  ,  388.56])"
            ]
          },
          "metadata": {
            "tags": []
          },
          "execution_count": 2
        }
      ]
    },
    {
      "cell_type": "code",
      "metadata": {
        "id": "0CZcBVS2v7Vp"
      },
      "source": [
        "#             0        1        2        3        4 \n",
        "#             Ra       Rb       Ma       Mq       q "
      ],
      "execution_count": 3,
      "outputs": []
    },
    {
      "cell_type": "code",
      "metadata": {
        "colab": {
          "base_uri": "https://localhost:8080/"
        },
        "id": "0-wP4p7yv7Vq",
        "outputId": "b8151459-c53e-44f1-8a6d-25767811147f"
      },
      "source": [
        "# вычислим Z\n",
        "z = 362.13 / 218.57\n",
        "print(f\"z = {z:2.3f} м\")"
      ],
      "execution_count": 4,
      "outputs": [
        {
          "output_type": "stream",
          "text": [
            "z = 1.657 м\n"
          ],
          "name": "stdout"
        }
      ]
    },
    {
      "cell_type": "markdown",
      "metadata": {
        "id": "TUa6RQpYv7Vq"
      },
      "source": [
        " $R_A = 512.13 $\n",
        " \n",
        " $R_A = 362.13 $ \n",
        " \n",
        " $M_A^{внутр} = -300 $\n",
        " \n",
        " $M_q^{внутр} = 300 $ \n",
        " \n",
        " $q = 218.57$ "
      ]
    },
    {
      "cell_type": "markdown",
      "metadata": {
        "id": "wTcI3hLFv7Vq"
      },
      "source": [
        "### Анализ решения\n",
        "- ```'Optimization terminated successfully.'```\n",
        "- ```success: True```\n",
        "- Ни одна сила не равна предельному значению absF\n",
        "\n",
        "- Два предельных момента\n",
        "- Моменты имеют разные знаки\n",
        "- $ z < l $\n"
      ]
    },
    {
      "cell_type": "markdown",
      "metadata": {
        "id": "RtDylZ-cv7Vr"
      },
      "source": [
        "### Вощможные проблемы\n",
        "-  ```Inequality constraints incompatible``` -- ситсема уравнений несовместна. Нужно проверить уравнения и их запись в коде программы\n",
        "- ```Singular matrix C in LSQ subproblem``` -- матрица уравнений вырождена. Уравнения линейно зависимы.Нужно проверить уравнения и их запись в коде программы. Если всё правильно, то убрать лишние уравнения.\n",
        "- ```More equality constraints than independent variables``` -- уравнений больше чем неизвестных"
      ]
    },
    {
      "cell_type": "markdown",
      "metadata": {
        "id": "L3VYdFKyv7Vr"
      },
      "source": [
        "Этот метод нелинейного программирования (SLSQP) зависит от начальных параметров задачи. Поэтому если решение неудачно, то нужно поменять x0.\n",
        "\n",
        "Решение может получится не точным."
      ]
    },
    {
      "cell_type": "markdown",
      "metadata": {
        "id": "K2hxpU_Fv7Vr"
      },
      "source": [
        "# Практическое занятие\n",
        "\n",
        "1. Откройте этот файл (https://drive.google.com/file/d/1NBlZbghkB7y9MGWGUON5sb0kH4Mu9M3O/view?usp=sharing) в google colab и запустите вычисления\n",
        "2. Решите аналогичную задачу, только когда нагрузка q действует на отрезок BC, где C -- центр AB\n",
        "Рекомендуется сначала записать уравнения, потом скопировать содержимое ячейку с вычислениями в новую ячейку и изменять уже эту копию\n",
        "\n"
      ]
    },
    {
      "cell_type": "markdown",
      "metadata": {
        "id": "wKFtHd6dv7Vr"
      },
      "source": [
        "3. Решите задачу, для схемы ниже"
      ]
    },
    {
      "cell_type": "markdown",
      "metadata": {
        "id": "u7RB3YY1yc9O"
      },
      "source": [
        "![image.png](data:image/png;base64,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)"
      ]
    },
    {
      "cell_type": "markdown",
      "metadata": {
        "id": "jk1jQSlsv7Vr"
      },
      "source": [
        "- В вариантах 1-6, нагрузка q действует на отрезок AB\n",
        "- В вариантах 1-6, нагрузка q действует на отрезок BC\n",
        "- l = 4 м\n",
        "\n",
        "4. Оформите работу:\n",
        "    - схема\n",
        "    - уравнения\n",
        "    - код в ячейке с вычислениями\n",
        "    - ответ\n",
        "    \n",
        "5. Отправьте работу через Дискорд"
      ]
    }
  ]
}