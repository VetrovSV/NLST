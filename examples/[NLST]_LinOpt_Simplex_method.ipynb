{
  "nbformat": 4,
  "nbformat_minor": 0,
  "metadata": {
    "kernelspec": {
      "display_name": "Python 3",
      "language": "python",
      "name": "python3"
    },
    "language_info": {
      "codemirror_mode": {
        "name": "ipython",
        "version": 3
      },
      "file_extension": ".py",
      "mimetype": "text/x-python",
      "name": "python",
      "nbconvert_exporter": "python",
      "pygments_lexer": "ipython3",
      "version": "3.8.5"
    },
    "colab": {
      "name": "[NLST] LinOpt. Simplex-method.ipynb",
      "provenance": [],
      "include_colab_link": true
    }
  },
  "cells": [
    {
      "cell_type": "markdown",
      "metadata": {
        "id": "view-in-github",
        "colab_type": "text"
      },
      "source": [
        "<a href=\"https://colab.research.google.com/github/VetrovSV/NLST/blob/master/examples/%5BNLST%5D_LinOpt_Simplex_method.ipynb\" target=\"_parent\"><img src=\"https://colab.research.google.com/assets/colab-badge.svg\" alt=\"Open In Colab\"/></a>"
      ]
    },
    {
      "cell_type": "markdown",
      "metadata": {
        "id": "pmV2DdoLcs4U"
      },
      "source": [
        "# Pyhton \n",
        "- Это Jupyter Notebook -- файл содержащий текст и программу на языке программирования Python\n",
        "- Этот файл можно запустить онлайн в [google colab](https://colab.research.google.com/) или в программе Jupyter, входящий в состав [Anaconda](https://www.anaconda.com/products/individual)\n",
        "\n",
        "\n",
        "- Python -- популярный и простой язык программирования\n",
        "- Для него создано большое количество библиотек решающих широкий круг задач\n",
        "- Помимо прочего Python широко используется в научных и инженерных вычислениях\n",
        "\n",
        "\n",
        "- Код на Python и текс содержится в *ячейках*\n",
        "\n",
        "- Ячейки с кодом можно запускать прямо в браузере: выберете ячейку и нажмите ```Shift+Enter```\n",
        "\n",
        "- Ячейки можно использовать для простых вычислений. Например:"
      ]
    },
    {
      "cell_type": "code",
      "metadata": {
        "id": "YTfX-MMIcs4X",
        "outputId": "b5cb4947-da6e-436b-839b-912f9aa255ba"
      },
      "source": [
        "2 + 2"
      ],
      "execution_count": null,
      "outputs": [
        {
          "data": {
            "text/plain": [
              "4"
            ]
          },
          "execution_count": 20,
          "metadata": {},
          "output_type": "execute_result"
        }
      ]
    },
    {
      "cell_type": "code",
      "metadata": {
        "id": "jdUkfE9acs4Y",
        "outputId": "ef4f4019-1a8e-4ef4-94e8-c7304b7b682a"
      },
      "source": [
        "# с символа решётка начинаются комментарии -- текст, который игнорируется Python,\n",
        "# но дают пояснение пользователю\n",
        "\n",
        "# возведение в квадрат обочначается **\n",
        "2.81 ** 2"
      ],
      "execution_count": null,
      "outputs": [
        {
          "data": {
            "text/plain": [
              "7.896100000000001"
            ]
          },
          "execution_count": 21,
          "metadata": {},
          "output_type": "execute_result"
        }
      ]
    },
    {
      "cell_type": "markdown",
      "metadata": {
        "id": "9mfELjuFcs4Z"
      },
      "source": [
        "- Результат выполнения ячейки (если его можно напечатать на экран) будет показан снизу ячейки.\n",
        "- После выполнения чейки ей присваиватеся номер"
      ]
    },
    {
      "cell_type": "code",
      "metadata": {
        "id": "5ejoGEtgcs4a",
        "outputId": "d1002e19-dfe5-4a03-a88d-b05625034391"
      },
      "source": [
        "# чтобы выполнять сложные математические операции нужно подключить основной математический модуль -- math\n",
        "from math import *\n",
        "\n",
        "sin( pi/2  )"
      ],
      "execution_count": null,
      "outputs": [
        {
          "data": {
            "text/plain": [
              "1.0"
            ]
          },
          "execution_count": 22,
          "metadata": {},
          "output_type": "execute_result"
        }
      ]
    },
    {
      "cell_type": "code",
      "metadata": {
        "id": "-HGIMBx1cs4a",
        "outputId": "a5eb5886-ccb2-4eee-9d4a-b39112408a8f"
      },
      "source": [
        "sin(pi)"
      ],
      "execution_count": null,
      "outputs": [
        {
          "data": {
            "text/plain": [
              "1.2246467991473532e-16"
            ]
          },
          "execution_count": 23,
          "metadata": {},
          "output_type": "execute_result"
        }
      ]
    },
    {
      "cell_type": "markdown",
      "metadata": {
        "id": "1bE_86cccs4b"
      },
      "source": [
        "Запись ```1.2246467991473532e-16``` означает $1.2246467991473532 \\cdot 10^{-16}$"
      ]
    },
    {
      "cell_type": "markdown",
      "metadata": {
        "id": "OVY6jcF8cs4b"
      },
      "source": [
        "- Запуск всего файла в google colab: меню Runtime > Run all\n",
        "- Выполнение всего файла закончится когда будет выполнена каждая ячейка или будет найдена ошибка в программе"
      ]
    },
    {
      "cell_type": "code",
      "metadata": {
        "id": "qkeFAHawcs4b",
        "outputId": "b1ed6040-48f4-4209-b9ee-98fecd30a704"
      },
      "source": [
        "# В Pyhton важны отступы. Не делайте отступов в начале строки\n",
        "# Это приведёт к ошибке\n",
        "\n",
        "# уберите пробелы перед sin чтобы исправить программу\n",
        "\n",
        "  sin( pi )"
      ],
      "execution_count": null,
      "outputs": [
        {
          "ename": "IndentationError",
          "evalue": "unexpected indent (<ipython-input-55-97cbf629a433>, line 6)",
          "output_type": "error",
          "traceback": [
            "\u001b[0;36m  File \u001b[0;32m\"<ipython-input-55-97cbf629a433>\"\u001b[0;36m, line \u001b[0;32m6\u001b[0m\n\u001b[0;31m    sin( pi )\u001b[0m\n\u001b[0m    ^\u001b[0m\n\u001b[0;31mIndentationError\u001b[0m\u001b[0;31m:\u001b[0m unexpected indent\n"
          ]
        }
      ]
    },
    {
      "cell_type": "code",
      "metadata": {
        "id": "JCnNxf07cs4c"
      },
      "source": [
        "# задание переменной\n",
        "a = 42"
      ],
      "execution_count": null,
      "outputs": []
    },
    {
      "cell_type": "code",
      "metadata": {
        "id": "1wG8BjQQcs4c",
        "outputId": "8be07897-688f-4ff8-c483-826341bb8047"
      },
      "source": [
        "# печать значения переменной на экран\n",
        "a"
      ],
      "execution_count": null,
      "outputs": [
        {
          "data": {
            "text/plain": [
              "42"
            ]
          },
          "execution_count": 37,
          "metadata": {},
          "output_type": "execute_result"
        }
      ]
    },
    {
      "cell_type": "code",
      "metadata": {
        "id": "N8PEwIMIcs4c"
      },
      "source": [
        "# модуль для продвинутой математики\n",
        "import numpy as np\n",
        "\n",
        "\n",
        "# массив -- набор из значений\n",
        "m = np.array([   1,    2,  3 ])"
      ],
      "execution_count": null,
      "outputs": []
    },
    {
      "cell_type": "code",
      "metadata": {
        "id": "RYLEFAc_cs4c",
        "outputId": "aa945eef-3173-44c2-a27d-92aba205dede"
      },
      "source": [
        "m"
      ],
      "execution_count": null,
      "outputs": [
        {
          "data": {
            "text/plain": [
              "array([1, 2, 3])"
            ]
          },
          "execution_count": 39,
          "metadata": {},
          "output_type": "execute_result"
        }
      ]
    },
    {
      "cell_type": "code",
      "metadata": {
        "id": "Xbhnysdlcs4d",
        "outputId": "6b01b62c-081e-47e5-ee7f-47544a13821e"
      },
      "source": [
        "# часто возникают ошибки, когда не хватает скобки\n",
        "m = np.array([   1,    2,  3 ]"
      ],
      "execution_count": null,
      "outputs": [
        {
          "ename": "SyntaxError",
          "evalue": "unexpected EOF while parsing (<ipython-input-51-82f563b1dbf6>, line 2)",
          "output_type": "error",
          "traceback": [
            "\u001b[0;36m  File \u001b[0;32m\"<ipython-input-51-82f563b1dbf6>\"\u001b[0;36m, line \u001b[0;32m2\u001b[0m\n\u001b[0;31m    m = np.array([   1,    2,  3 ]\u001b[0m\n\u001b[0m                                  ^\u001b[0m\n\u001b[0;31mSyntaxError\u001b[0m\u001b[0;31m:\u001b[0m unexpected EOF while parsing\n"
          ]
        }
      ]
    },
    {
      "cell_type": "code",
      "metadata": {
        "id": "JD1ma6ZVcs4d",
        "outputId": "5f43393b-0eb8-41a1-ed50-cb3ea47ebf7c"
      },
      "source": [
        "m = np.array([   1,    2,  3 )"
      ],
      "execution_count": null,
      "outputs": [
        {
          "ename": "SyntaxError",
          "evalue": "closing parenthesis ')' does not match opening parenthesis '[' (<ipython-input-52-8161290f8ea6>, line 1)",
          "output_type": "error",
          "traceback": [
            "\u001b[0;36m  File \u001b[0;32m\"<ipython-input-52-8161290f8ea6>\"\u001b[0;36m, line \u001b[0;32m1\u001b[0m\n\u001b[0;31m    m = np.array([   1,    2,  3 )\u001b[0m\n\u001b[0m                                 ^\u001b[0m\n\u001b[0;31mSyntaxError\u001b[0m\u001b[0;31m:\u001b[0m closing parenthesis ')' does not match opening parenthesis '['\n"
          ]
        }
      ]
    },
    {
      "cell_type": "code",
      "metadata": {
        "id": "sQW_Xmtvcs4d",
        "outputId": "4e04f3fc-4929-4dac-e4ea-8401550ae357"
      },
      "source": [
        "# ещё ошибки возникают когда пропущена запятая\n",
        "m = np.array([   1,    2  3 ])"
      ],
      "execution_count": null,
      "outputs": [
        {
          "ename": "SyntaxError",
          "evalue": "invalid syntax (<ipython-input-54-5c2bff3864e8>, line 2)",
          "output_type": "error",
          "traceback": [
            "\u001b[0;36m  File \u001b[0;32m\"<ipython-input-54-5c2bff3864e8>\"\u001b[0;36m, line \u001b[0;32m2\u001b[0m\n\u001b[0;31m    m = np.array([   1,    2  3 ])\u001b[0m\n\u001b[0m                              ^\u001b[0m\n\u001b[0;31mSyntaxError\u001b[0m\u001b[0;31m:\u001b[0m invalid syntax\n"
          ]
        }
      ]
    },
    {
      "cell_type": "markdown",
      "metadata": {
        "id": "uXWjB5LFcs4e"
      },
      "source": [
        "# Нахождение минимума и максимума \n",
        "- Как найти минимум и максимум функции $y = (x+1)^2 - 1 $ на отрезке $[-5, 7]$ ?\n",
        "- Как найти минимум и максимум функции $z = (x+1)^2 - xy + y^2 - 8$, где $x \\in [-5, 7]$, $y \\in [-10, 12]$?\n",
        "- Не все подобные задачи можно быстро решить аналитически\n",
        "- Но такие задачи можно быстро решить с помошью численных методов -- методов которые дают относительно точный результат, но легко реализуются в виде алгоритмов и есть во многих математических программах\n"
      ]
    },
    {
      "cell_type": "markdown",
      "metadata": {
        "id": "8_GN4yiPcs4e"
      },
      "source": [
        "# Математическое программирование\n",
        "\n",
        "**Математическое программирование** — это область математики, разрабатывающая теорию, численные методы решения многомерных задач с ограничениями. В отличие от классической математики, математическое программирование занимается математическими методами решения задач нахождения наилучших вариантов из всех возможных"
      ]
    },
    {
      "cell_type": "markdown",
      "metadata": {
        "id": "qLWPSMR0cs4e"
      },
      "source": [
        "# Линейное программирование\n",
        "\n",
        "**Линейное программирование** — математическая дисциплина,  посвящённая теории и методам решения экстремальных задач на множествах n-мерного векторного пространства, задаваемых системами линейных уравнений и неравенств.\n",
        "\n",
        "\n",
        "Методы линейного программирования решают следующую задачу:\n",
        "\n",
        "- требуется найти минимум (максимум) линейной функции n переменных -- **целевой функции**\n",
        "$$  f(x_1, x_2, ...,  x_n) = c_1 \\cdot x_1 + c_2 \\cdot x_2 + ... + c_n \\cdot x_n $$\n",
        "\n",
        "- при этом значения $x_1, x_2, ...,  x_n$ должны удовлетворять условиям:\n",
        "$$ a_{11} \\cdot x_1 + a_{12} \\cdot x_2 +  ... + a_{1n} \\cdot x_n >= b_1$$\n",
        "$$ a_{21} \\cdot x_1 + a_{22} \\cdot x_2 +  ... + a_{2n} \\cdot x_n >= b_2$$\n",
        "$$ ...$$\n",
        "$$ a_{m1} \\cdot x_1 + a_{m2} \\cdot x_2 +  ... + a_{mn} \\cdot x_n >= b_m$$\n",
        "\n",
        "- ограничения выше могут состоять из равенств, неравенств или и того и другого вместе\n",
        "- при необходимости можно перейти от поиска максимума к поиску минимума целевой функции\n",
        "\n",
        "[wikipedia](https://ru.wikipedia.org/wiki/%D0%9B%D0%B8%D0%BD%D0%B5%D0%B9%D0%BD%D0%BE%D0%B5_%D0%BF%D1%80%D0%BE%D0%B3%D1%80%D0%B0%D0%BC%D0%BC%D0%B8%D1%80%D0%BE%D0%B2%D0%B0%D0%BD%D0%B8%D0%B5)\n",
        "\n",
        "![image.png](attachment:image.png)"
      ]
    },
    {
      "cell_type": "markdown",
      "metadata": {
        "id": "tnUWQxhfcs4f"
      },
      "source": [
        "# Пример\n",
        "- Предприятие производит 3 вида продукции: А1, А2, А3, используя сырьё двух типов. \n",
        "\n",
        "- Известны затраты сырья каждого типа на единицу продукции, \n",
        "- запасы сырья на планируемый период, \n",
        "- а также прибыль от единицы продукции каждого вида.\n",
        "\n",
        "![image.png](attachment:image.png)\n",
        "\n",
        "Сколько изделий каждого вида необходимо произвести, чтобы получить максимум прибыли? "
      ]
    },
    {
      "cell_type": "markdown",
      "metadata": {
        "id": "9jTyq_fNcs4f"
      },
      "source": [
        "- Требуется максимизировать прибыль\n",
        "- Прибыль зависит от цены, по которой реализуется каждая еденица продукции и от количества произведённых (и проданных) единиц продукции\n",
        "- Цена ед. каждого вида продукции известна, нужно определить сколько ед. продукции продавать, чтобы прибыль была максимальной\n",
        "- Обозначим количество производимой продукции видов А1, А2, А3 как $x_1, x_2, x_3$ соответственно\n",
        "- В самом простом случае стоит продавать самые дорогие виды продукции\n",
        "- Но производство видов разных продукции требует разного количества ресурсов\n",
        "- Значит следует производить самый дорогой вид продукции, который при этом можно продать по высокой цене\n",
        "- Запишем целевую функцию линейного программирования:\n",
        "\n",
        "  $ 1 \\cdot x_1 + 3 \\cdot x_2 + 3 \\cdot x_3 \\rightarrow max  $ &nbsp; (1) \n",
        "  \n",
        "- Однако количество произведённой продукции за планируемый период зависит ещё и от количество ресурсов, который доступны в этот период\n",
        "- учтём ограничения на ресурсы\n",
        "- производя $x_1, x_2, x_3$ продукции каждого типа расходуется ресурс I. Он ограничен, запишем это в виде уравнения:\n",
        "\n",
        "$ x_1 \\cdot 3.5 + x_2 \\cdot 7 + x_3 \\cdot 4.2 \\le 1400 $ &nbsp; (2) \n",
        "\n",
        "- аналогично для ресурса II:\n",
        "\n",
        "$ x_1 \\cdot 4 + x_2 \\cdot 5 + x_3 \\cdot 8 \\le 2000 $ &nbsp; (3) \n",
        "\n",
        "Таким образом задача формализована в виде уравнений (1)-(3)"
      ]
    },
    {
      "cell_type": "code",
      "metadata": {
        "id": "G8qnTpHFcs4g"
      },
      "source": [
        "# раскомментирвоть (убрать символ #) строки ниже для установки модулей в mybinder.org\n",
        "# !pip install scipy\n",
        "# !pip install seaborn"
      ],
      "execution_count": null,
      "outputs": []
    },
    {
      "cell_type": "code",
      "metadata": {
        "id": "-rlsfez5cs4g"
      },
      "source": [
        "# подключение модулей\n",
        "\n",
        "from scipy.optimize import linprog  \n",
        "# далее решим задачу используя метод линейного программирования linprog из модуля scipy\n",
        "\n",
        "import numpy as np  # модуль для работы с математическими функциями\n",
        "\n",
        "# выводить 4 знака после запятой, выводить маленькие (по модулю) числа как 0\n",
        "np.set_printoptions(precision=4, suppress=True)"
      ],
      "execution_count": null,
      "outputs": []
    },
    {
      "cell_type": "code",
      "metadata": {
        "id": "H0-t9WaAcs4g"
      },
      "source": [
        "# задание переменных\n",
        "\n",
        "# запишем целевую функцию как набор коэффициентов перед иксами\n",
        "fun = np.array([   1,    3,  3 ])\n",
        "\n",
        "# аналогично запишем коэффициенты перед исками из неравенств (2) и (3)\n",
        "Aub = np.array( [ [3.5,  7,  4.2],\n",
        "                  [4,    5,  8   ] ] )\n",
        "\n",
        "# правые части неравенств (2) и (3)\n",
        "Bub = np.array( [ 1400, 2000 ] )\n",
        "\n"
      ],
      "execution_count": null,
      "outputs": []
    },
    {
      "cell_type": "code",
      "metadata": {
        "id": "x2pBP3_dcs4h"
      },
      "source": [
        "# вызовем справку по функции linprog\n",
        "# ?linprog"
      ],
      "execution_count": null,
      "outputs": []
    },
    {
      "cell_type": "code",
      "metadata": {
        "id": "-REK5y71cs4h",
        "outputId": "a9271f11-b6e5-46f9-fa7e-0bd0f79b184a"
      },
      "source": [
        "linprog( - fun,   # минус перед коэф. целевой функции, т.к. функция linprog минимизирует целевую функцию, \n",
        "                  # а в задаче требуется максимизация\n",
        "        A_ub = Aub,    # запишем переменную с коэф. неравенства в параметр A_ub\n",
        "        b_ub = Bub,  # правые части для равенств \n",
        "        method = 'interior-point' )\n"
      ],
      "execution_count": null,
      "outputs": [
        {
          "data": {
            "text/plain": [
              "     con: array([], dtype=float64)\n",
              "     fun: -839.9999912234083\n",
              " message: 'Optimization terminated successfully.'\n",
              "     nit: 5\n",
              "   slack: array([0., 0.])\n",
              "  status: 0\n",
              " success: True\n",
              "       x: array([  0.,  80., 200.])"
            ]
          },
          "execution_count": 58,
          "metadata": {},
          "output_type": "execute_result"
        }
      ]
    },
    {
      "cell_type": "markdown",
      "metadata": {
        "id": "9x95TKGFcs4h"
      },
      "source": [
        "### Ответ и анализ решения\n",
        "- решение удалось \n",
        "    - message: 'Optimization terminated successfully.'\n",
        "    - success: True\n",
        "    \n",
        "- ответ (значения x1, x2, x3)\n",
        "    -  x: array([  0.,  80., 200.])\n",
        "    \n",
        "    \n",
        "$ x_1 = 0 $ \\\n",
        "$ x_2 = 80 $ \\\n",
        "$ x_3 = 200 $"
      ]
    },
    {
      "cell_type": "markdown",
      "metadata": {
        "id": "cR51lCoGcs4h"
      },
      "source": [
        "# Пример 2\n",
        "\n",
        "Для откорма животных на ферме в их еженедельный рацион необходимо включать \n",
        "\n",
        "- не менее 33 ед. питательного вещества А, \n",
        "\n",
        "- 23 ед. питательного вещества В \n",
        "\n",
        "- 12 ед. питательного вещества С. \n",
        "\n",
        "\n",
        "Для откорма используется 3 вида кормов.\n",
        "\n",
        "Данные о содержании питательных веществ и стоимость одной весовой единицы каждого из кормов помещены в таблице:\n",
        "\n",
        "![image.png](attachment:image.png)\n",
        "\n",
        "Составить наиболее дешёвый рацион, при котором каждое животное получало бы необходимые количества питательных веществ А, В, С"
      ]
    },
    {
      "cell_type": "markdown",
      "metadata": {
        "id": "SnUPi4hJcs4h"
      },
      "source": [
        "Формализуем задачу.\n",
        "\n",
        "$q_1$, $q_2$ и $q_3$ - количество закупаемого корма 1, 2 и 3 соответственно. Это искомые переменные\n",
        "\n",
        "$P_1$, $P_2$ и $P_3$ - цена корма 1, 2 и 3 соответственно. \n",
        "\n",
        "Основная задача - минимизировать функцию:\n",
        "\n",
        "$$ q_1 P_1 + q_2 P_2 + q_3 P_3 \\rightarrow min $$\n",
        "\n",
        "\n",
        "Соблюдая при этом ограничения:\n",
        "\n",
        "${4} q_1 + {3} q_2 + {2} q_3 \\ge 33$\n",
        "\n",
        "${3} q_1 + {2} q_2 +  q_3 \\ge 23$\n",
        "\n",
        "$q_1 +  q_2 + {2} q_3 \\ge 12$\n",
        "\n",
        "Дроби означают содержание питательных веществ в корме.\n",
        "\n"
      ]
    },
    {
      "cell_type": "code",
      "metadata": {
        "id": "kJ_SFgIucs4i"
      },
      "source": [
        "import numpy as np\n",
        "from scipy.optimize import linprog"
      ],
      "execution_count": null,
      "outputs": []
    },
    {
      "cell_type": "code",
      "metadata": {
        "id": "2RZ6nSdBcs4i",
        "outputId": "ed11343d-b96d-4f15-d085-9360c90aa480"
      },
      "source": [
        "p1 = 20\n",
        "p2 = 20\n",
        "p3 = 10\n",
        "\n",
        "# коэффициенты для неравенств\n",
        "A = np.array([[4,  3,  2], \n",
        "              [3,  2,  1],\n",
        "              [1,  1,  2]])\n",
        "# правая часть неравенств\n",
        "b = np.array([ 33,  23, 12])\n",
        "\n",
        "# первый параметр - набор коэффициентов в функции, которую нужно минимизировать\n",
        "# A_ub - коэффициенты для неравенств вида Ax <= b\n",
        "# b_ub - правая часть неравенств\n",
        "# здесь A_ub и b_ub взяты со знаком минус, ибо неравенства в задаче имеют обратный знак\n",
        "r = linprog([p1, p2, p3], \n",
        "        A_ub = -A, \n",
        "        b_ub = -b)\n",
        "\n",
        "print(r)\n",
        "\n",
        "# q1,q2,q3 = r.x\n",
        "# print(f\"\"\"Оптимальное количество закупок кормов:\n",
        "# корм 1: {q1:.2f}\n",
        "# корм 2: {q2:.2f}\n",
        "# корм 3: {q3:.2f}\n",
        "# \"\"\")\n",
        "x = r.x\n",
        "# x = np.array([6.5, 0, 3.5])\n",
        "\n",
        "print(\"Проверка:\")\n",
        "print(sum(A[0]*x))\n",
        "print(sum(A[1]*x))\n",
        "print(sum(A[2]*x))\n",
        "print(sum(np.array([p1, p2, p3])*x))"
      ],
      "execution_count": null,
      "outputs": [
        {
          "name": "stdout",
          "output_type": "stream",
          "text": [
            "     con: array([], dtype=float64)\n",
            "     fun: 164.99999999926965\n",
            " message: 'Optimization terminated successfully.'\n",
            "     nit: 5\n",
            "   slack: array([-0.    ,  0.262 ,  0.7139])\n",
            "  status: 0\n",
            " success: True\n",
            "       x: array([6.762 , 0.    , 2.9759])\n",
            "Проверка:\n",
            "32.999999999849926\n",
            "23.2620268829761\n",
            "12.71391935069451\n",
            "164.99999999926965\n"
          ]
        }
      ]
    },
    {
      "cell_type": "markdown",
      "metadata": {
        "id": "VlXiwjY5cs4i"
      },
      "source": [
        "## Пример 2\n",
        "\n",
        "- автобаза обслуживает 3 овощных магазина,\n",
        "\n",
        "- причём товар доставляется в магазин из 2 плодоовощных баз.\n",
        "\n",
        "- Ежедневно вывозится с первой базы 12 т товара, со второй – 15 т.\n",
        "\n",
        "- При этом завозится в первый магазин 8 т, во второй – 9 т, в третий --10 т. Стоимость перевозки 1 т товара (в рублях) приведена в таблице.\n",
        "\n",
        "![image.png](attachment:image.png)\n",
        "\n",
        "- Нужно спланировать перевозки так, чтобы их общая стоимость была минимальной."
      ]
    },
    {
      "cell_type": "markdown",
      "metadata": {
        "id": "4vUDpl-Pcs4i"
      },
      "source": [
        "### Решение\n",
        "Другими словами, нужно решить сколько и из каких баз выгоднее возить товар в каждый из магазинов.\n",
        "\n",
        "$q_{ij}$ - количество товара перевозимого из базы $i$ в магазин $j$\n",
        "\n",
        "\n",
        "$$ 0.8 q_{11} + 1.1 q_{12} + 0.9 q_{13} + 1.0 q_{21} + 0.7 q_{22} + 1.2 q_{23} \\rightarrow min $$\n",
        "\n",
        "При этом с базами заключён договор на вывоз следующего количества товара\n",
        "\n",
        "$ q_{11} + q_{12} + q_{13} = 12 $\n",
        "\n",
        "$ q_{21} + q_{22} + q_{23} = 15 $\n",
        "\n",
        "\n",
        "Аналогичная договорённость (только на привоз) товара с магазинами:\n",
        "\n",
        "$ q_{11} + q_{21} = 8 $\n",
        "\n",
        "$ q_{12} + q_{22} = 9 $\n",
        "\n",
        "$ q_{13} + q_{23} = 10 $\n"
      ]
    },
    {
      "cell_type": "code",
      "metadata": {
        "id": "nlsKKgN4cs4j",
        "outputId": "878594bb-b863-459f-b514-4f40b2664024"
      },
      "source": [
        "c = np.array([0.8, 1.1, 0.9, 1.0, 0.7, 1.2])\n",
        "A = np.array([[1, 1, 1, 0, 0, 0],\n",
        "              [0, 0, 0, 1, 1, 1],\n",
        "              [1, 0, 0, 1, 0, 0],\n",
        "              [0, 1, 0, 0, 1, 0],\n",
        "              [0, 0, 1, 0, 0, 1]])\n",
        "b = np.array([12, 15, 8, 9, 10])\n",
        "\n",
        "linprog(c, A_eq = A, b_eq = b)"
      ],
      "execution_count": null,
      "outputs": [
        {
          "name": "stderr",
          "output_type": "stream",
          "text": [
            "<ipython-input-47-4c59a97a8fe4>:9: OptimizeWarning: A_eq does not appear to be of full row rank. To improve performance, check the problem formulation for redundant equality constraints.\n",
            "  linprog(c, A_eq = A, b_eq = b)\n"
          ]
        },
        {
          "data": {
            "text/plain": [
              "     con: array([0., 0., 0., 0., 0.])\n",
              "     fun: 22.899999767513194\n",
              " message: 'Optimization terminated successfully.'\n",
              "     nit: 5\n",
              "   slack: array([], dtype=float64)\n",
              "  status: 0\n",
              " success: True\n",
              "       x: array([ 2.,  0., 10.,  6.,  9.,  0.])"
            ]
          },
          "execution_count": 47,
          "metadata": {},
          "output_type": "execute_result"
        }
      ]
    },
    {
      "cell_type": "markdown",
      "metadata": {
        "id": "oCXG3UT4cs4j"
      },
      "source": [
        "# Линейное программирование и расчёт по предельным состояниям\n",
        "\n",
        "- Определение предельной силы подразумевает рассмотрение нескольких схем образования пластических шарниров.\n",
        "\n",
        "- В сложных схемах, не всегда возможно определить направление предельных моментов в пластических шарнирах.\n",
        "\n",
        "- Поэтому для каждой схемы образования пластических шарниров нужно рассматривать различные варианты направления предельных моментов в пластических шарнирах.\n",
        "\n",
        "- Это увеличивает число рассматриваемых схем.\n",
        "\n",
        "- Однако задачу определения предельной нагрузки можно переформулировать в задачу поиска максимума нагрузки.\n",
        "- При этом должны выполнятся ограничения: ни один момент не может превышать предельного значения."
      ]
    }
  ]
}